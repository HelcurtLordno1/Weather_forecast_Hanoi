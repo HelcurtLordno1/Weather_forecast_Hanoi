{
 "cells": [
  {
   "cell_type": "markdown",
   "id": "b34a53e9",
   "metadata": {},
   "source": [
    "# 🌡️ Hanoi Hourly Weather Data Exploration - Comprehensive Analysis\n",
    "\n",
    "## Step 8: Hourly Temperature Forecasting\n",
    "**Objective**: Explore the hourly weather dataset (`hanoi_weather_data_hourly.csv`) to understand patterns, features, and prepare for 5-day ahead temperature forecasting with hourly resolution.\n",
    "\n",
    "**Dataset Overview**:\n",
    "- **Source**: Visual Crossing Weather API - Hanoi Hourly Data\n",
    "- **Records**: ~87,698 hourly observations \n",
    "- **Time Range**: 2015-2024 (10 years)\n",
    "- **Features**: 28 weather parameters per hour\n",
    "- **Target**: Temperature forecasting for next 120 hours (5 days)\n",
    "\n",
    "---\n",
    "\n",
    "### 📋 Analysis Roadmap\n",
    "\n",
    "1. **Data Loading & Initial Exploration**\n",
    "2. **Temporal Pattern Analysis** (Hourly, Daily, Seasonal)\n",
    "3. **Feature Understanding & Distribution**\n",
    "4. **Missing Value Assessment**\n",
    "5. **Correlation Analysis**\n",
    "6. **Diurnal Temperature Patterns**\n",
    "7. **Weather Condition Analysis**\n",
    "8. **Preparation for Feature Engineering**"
   ]
  },
  {
   "cell_type": "code",
   "execution_count": 1,
   "id": "11ba82fa",
   "metadata": {},
   "outputs": [
    {
     "name": "stdout",
     "output_type": "stream",
     "text": [
      "🌡️ Libraries imported successfully!\n",
      "📊 Ready for hourly weather data exploration!\n",
      "📂 Data source: ../data/raw/hanoi_weather_data_hourly.csv\n",
      "💾 Outputs will be saved to: ../outputs/\n"
     ]
    }
   ],
   "source": [
    "# Import required libraries for hourly data analysis\n",
    "import pandas as pd\n",
    "import numpy as np\n",
    "import matplotlib.pyplot as plt\n",
    "import seaborn as sns\n",
    "import plotly.express as px\n",
    "import plotly.graph_objects as go\n",
    "from plotly.subplots import make_subplots\n",
    "import warnings\n",
    "from datetime import datetime, timedelta\n",
    "import os\n",
    "import sys\n",
    "\n",
    "warnings.filterwarnings('ignore')\n",
    "\n",
    "# Set display options\n",
    "pd.set_option('display.max_columns', None)\n",
    "pd.set_option('display.max_rows', 100)\n",
    "\n",
    "# Plotting style\n",
    "plt.style.use('seaborn-v0_8')\n",
    "sns.set_palette(\"husl\")\n",
    "\n",
    "# File paths for hourly data\n",
    "DATA_PATH = '../data/raw/hanoi_weather_data_hourly.csv'\n",
    "OUTPUT_PATH = '../outputs/'\n",
    "\n",
    "print(\"🌡️ Libraries imported successfully!\")\n",
    "print(\"📊 Ready for hourly weather data exploration!\")\n",
    "print(f\"📂 Data source: {DATA_PATH}\")\n",
    "print(f\"💾 Outputs will be saved to: {OUTPUT_PATH}\")"
   ]
  },
  {
   "cell_type": "code",
   "execution_count": 2,
   "id": "212b4554",
   "metadata": {},
   "outputs": [
    {
     "name": "stdout",
     "output_type": "stream",
     "text": [
      "🌡️ HANOI HOURLY WEATHER DATASET OVERVIEW\n",
      "============================================================\n",
      "📊 Dataset Shape: (87696, 28)\n",
      "📅 Records: 87,696 hourly observations\n",
      "🔢 Features: 28 columns\n",
      "💾 Memory Usage: 50.16 MB\n",
      "\n",
      "📋 DATASET INFO:\n",
      "----------------------------------------\n",
      "<class 'pandas.core.frame.DataFrame'>\n",
      "RangeIndex: 87696 entries, 0 to 87695\n",
      "Data columns (total 28 columns):\n",
      " #   Column            Non-Null Count  Dtype  \n",
      "---  ------            --------------  -----  \n",
      " 0   name              87696 non-null  object \n",
      " 1   address           87696 non-null  object \n",
      " 2   resolvedAddress   87696 non-null  object \n",
      " 3   latitude          87696 non-null  int64  \n",
      " 4   longitude         87696 non-null  float64\n",
      " 5   datetime          87696 non-null  object \n",
      " 6   temp              87696 non-null  float64\n",
      " 7   feelslike         87696 non-null  float64\n",
      " 8   dew               87696 non-null  float64\n",
      " 9   humidity          87696 non-null  float64\n",
      " 10  precip            87659 non-null  float64\n",
      " 11  precipprob        87696 non-null  int64  \n",
      " 12  preciptype        7503 non-null   object \n",
      " 13  snow              87655 non-null  float64\n",
      " 14  snowdepth         87655 non-null  float64\n",
      " 15  windgust          87648 non-null  float64\n",
      " 16  windspeed         87695 non-null  float64\n",
      " 17  winddir           87694 non-null  float64\n",
      " 18  sealevelpressure  87696 non-null  float64\n",
      " 19  cloudcover        87696 non-null  float64\n",
      " 20  visibility        87480 non-null  float64\n",
      " 21  solarradiation    87660 non-null  float64\n",
      " 22  solarenergy       87660 non-null  float64\n",
      " 23  uvindex           87660 non-null  float64\n",
      " 24  severerisk        3840 non-null   float64\n",
      " 25  conditions        87696 non-null  object \n",
      " 26  icon              87696 non-null  object \n",
      " 27  source            87696 non-null  object \n",
      "dtypes: float64(18), int64(2), object(8)\n",
      "memory usage: 18.7+ MB\n",
      "\n",
      "🕐 DATE RANGE ANALYSIS:\n",
      "----------------------------------------\n",
      "Start Date: 2015-09-27 00:00:00\n",
      "End Date: 2025-09-27 23:00:00\n",
      "Time Span: 3653 days\n",
      "Expected Hours: 87672\n",
      "Actual Hours: 87696\n",
      "Data Completeness: 100.03%\n",
      "\n",
      "🌡️ TEMPERATURE ANALYSIS:\n",
      "----------------------------------------\n",
      "Min Temperature: 5.9°C\n",
      "Max Temperature: 41.9°C\n",
      "Mean Temperature: 24.8°C\n",
      "Temperature Range: 36.0°C\n",
      "Start Date: 2015-09-27 00:00:00\n",
      "End Date: 2025-09-27 23:00:00\n",
      "Time Span: 3653 days\n",
      "Expected Hours: 87672\n",
      "Actual Hours: 87696\n",
      "Data Completeness: 100.03%\n",
      "\n",
      "🌡️ TEMPERATURE ANALYSIS:\n",
      "----------------------------------------\n",
      "Min Temperature: 5.9°C\n",
      "Max Temperature: 41.9°C\n",
      "Mean Temperature: 24.8°C\n",
      "Temperature Range: 36.0°C\n"
     ]
    }
   ],
   "source": [
    "# Load and examine the hourly dataset\n",
    "df_hourly = pd.read_csv(DATA_PATH)\n",
    "\n",
    "print(\"🌡️ HANOI HOURLY WEATHER DATASET OVERVIEW\")\n",
    "print(\"=\" * 60)\n",
    "print(f\"📊 Dataset Shape: {df_hourly.shape}\")\n",
    "print(f\"📅 Records: {df_hourly.shape[0]:,} hourly observations\")\n",
    "print(f\"🔢 Features: {df_hourly.shape[1]} columns\")\n",
    "print(f\"💾 Memory Usage: {df_hourly.memory_usage(deep=True).sum() / 1024**2:.2f} MB\")\n",
    "\n",
    "# Display basic info\n",
    "print(\"\\n📋 DATASET INFO:\")\n",
    "print(\"-\" * 40)\n",
    "df_hourly.info()\n",
    "\n",
    "print(f\"\\n🕐 DATE RANGE ANALYSIS:\")\n",
    "print(\"-\" * 40)\n",
    "df_hourly['datetime'] = pd.to_datetime(df_hourly['datetime'])\n",
    "print(f\"Start Date: {df_hourly['datetime'].min()}\")\n",
    "print(f\"End Date: {df_hourly['datetime'].max()}\")\n",
    "print(f\"Time Span: {(df_hourly['datetime'].max() - df_hourly['datetime'].min()).days} days\")\n",
    "print(f\"Expected Hours: {(df_hourly['datetime'].max() - df_hourly['datetime'].min()).days * 24}\")\n",
    "print(f\"Actual Hours: {len(df_hourly)}\")\n",
    "print(f\"Data Completeness: {len(df_hourly) / ((df_hourly['datetime'].max() - df_hourly['datetime'].min()).days * 24) * 100:.2f}%\")\n",
    "\n",
    "print(f\"\\n🌡️ TEMPERATURE ANALYSIS:\")\n",
    "print(\"-\" * 40)\n",
    "print(f\"Min Temperature: {df_hourly['temp'].min():.1f}°C\")\n",
    "print(f\"Max Temperature: {df_hourly['temp'].max():.1f}°C\")\n",
    "print(f\"Mean Temperature: {df_hourly['temp'].mean():.1f}°C\")\n",
    "print(f\"Temperature Range: {df_hourly['temp'].max() - df_hourly['temp'].min():.1f}°C\")"
   ]
  },
  {
   "cell_type": "code",
   "execution_count": 3,
   "id": "f82ed6f5",
   "metadata": {},
   "outputs": [
    {
     "name": "stdout",
     "output_type": "stream",
     "text": [
      "📋 FIRST 5 ROWS:\n",
      "----------------------------------------\n"
     ]
    },
    {
     "data": {
      "text/html": [
       "<div>\n",
       "<style scoped>\n",
       "    .dataframe tbody tr th:only-of-type {\n",
       "        vertical-align: middle;\n",
       "    }\n",
       "\n",
       "    .dataframe tbody tr th {\n",
       "        vertical-align: top;\n",
       "    }\n",
       "\n",
       "    .dataframe thead th {\n",
       "        text-align: right;\n",
       "    }\n",
       "</style>\n",
       "<table border=\"1\" class=\"dataframe\">\n",
       "  <thead>\n",
       "    <tr style=\"text-align: right;\">\n",
       "      <th></th>\n",
       "      <th>name</th>\n",
       "      <th>address</th>\n",
       "      <th>resolvedAddress</th>\n",
       "      <th>latitude</th>\n",
       "      <th>longitude</th>\n",
       "      <th>datetime</th>\n",
       "      <th>temp</th>\n",
       "      <th>feelslike</th>\n",
       "      <th>dew</th>\n",
       "      <th>humidity</th>\n",
       "      <th>precip</th>\n",
       "      <th>precipprob</th>\n",
       "      <th>preciptype</th>\n",
       "      <th>snow</th>\n",
       "      <th>snowdepth</th>\n",
       "      <th>windgust</th>\n",
       "      <th>windspeed</th>\n",
       "      <th>winddir</th>\n",
       "      <th>sealevelpressure</th>\n",
       "      <th>cloudcover</th>\n",
       "      <th>visibility</th>\n",
       "      <th>solarradiation</th>\n",
       "      <th>solarenergy</th>\n",
       "      <th>uvindex</th>\n",
       "      <th>severerisk</th>\n",
       "      <th>conditions</th>\n",
       "      <th>icon</th>\n",
       "      <th>source</th>\n",
       "    </tr>\n",
       "  </thead>\n",
       "  <tbody>\n",
       "    <tr>\n",
       "      <th>0</th>\n",
       "      <td>Hanoi</td>\n",
       "      <td>Hanoi</td>\n",
       "      <td>Hanoi</td>\n",
       "      <td>21</td>\n",
       "      <td>105.85</td>\n",
       "      <td>2015-09-27 00:00:00</td>\n",
       "      <td>27.0</td>\n",
       "      <td>31.2</td>\n",
       "      <td>26.0</td>\n",
       "      <td>94.27</td>\n",
       "      <td>0.1</td>\n",
       "      <td>100</td>\n",
       "      <td>rain</td>\n",
       "      <td>0.0</td>\n",
       "      <td>0.0</td>\n",
       "      <td>6.5</td>\n",
       "      <td>5.4</td>\n",
       "      <td>106.6</td>\n",
       "      <td>1007.0</td>\n",
       "      <td>0.0</td>\n",
       "      <td>3.0</td>\n",
       "      <td>0.0</td>\n",
       "      <td>0.0</td>\n",
       "      <td>0.0</td>\n",
       "      <td>NaN</td>\n",
       "      <td>Rain</td>\n",
       "      <td>rain</td>\n",
       "      <td>obs</td>\n",
       "    </tr>\n",
       "    <tr>\n",
       "      <th>1</th>\n",
       "      <td>Hanoi</td>\n",
       "      <td>Hanoi</td>\n",
       "      <td>Hanoi</td>\n",
       "      <td>21</td>\n",
       "      <td>105.85</td>\n",
       "      <td>2015-09-27 01:00:00</td>\n",
       "      <td>26.5</td>\n",
       "      <td>26.5</td>\n",
       "      <td>25.9</td>\n",
       "      <td>96.32</td>\n",
       "      <td>0.0</td>\n",
       "      <td>0</td>\n",
       "      <td>NaN</td>\n",
       "      <td>0.0</td>\n",
       "      <td>0.0</td>\n",
       "      <td>5.8</td>\n",
       "      <td>1.5</td>\n",
       "      <td>344.0</td>\n",
       "      <td>1008.0</td>\n",
       "      <td>1.3</td>\n",
       "      <td>8.9</td>\n",
       "      <td>0.0</td>\n",
       "      <td>0.0</td>\n",
       "      <td>0.0</td>\n",
       "      <td>NaN</td>\n",
       "      <td>Clear</td>\n",
       "      <td>clear-night</td>\n",
       "      <td>obs</td>\n",
       "    </tr>\n",
       "    <tr>\n",
       "      <th>2</th>\n",
       "      <td>Hanoi</td>\n",
       "      <td>Hanoi</td>\n",
       "      <td>Hanoi</td>\n",
       "      <td>21</td>\n",
       "      <td>105.85</td>\n",
       "      <td>2015-09-27 02:00:00</td>\n",
       "      <td>27.0</td>\n",
       "      <td>31.2</td>\n",
       "      <td>26.0</td>\n",
       "      <td>94.27</td>\n",
       "      <td>0.9</td>\n",
       "      <td>100</td>\n",
       "      <td>rain</td>\n",
       "      <td>0.0</td>\n",
       "      <td>0.0</td>\n",
       "      <td>8.3</td>\n",
       "      <td>0.9</td>\n",
       "      <td>20.2</td>\n",
       "      <td>1007.0</td>\n",
       "      <td>44.0</td>\n",
       "      <td>4.5</td>\n",
       "      <td>0.0</td>\n",
       "      <td>0.0</td>\n",
       "      <td>0.0</td>\n",
       "      <td>NaN</td>\n",
       "      <td>Rain, Partially cloudy</td>\n",
       "      <td>rain</td>\n",
       "      <td>obs</td>\n",
       "    </tr>\n",
       "    <tr>\n",
       "      <th>3</th>\n",
       "      <td>Hanoi</td>\n",
       "      <td>Hanoi</td>\n",
       "      <td>Hanoi</td>\n",
       "      <td>21</td>\n",
       "      <td>105.85</td>\n",
       "      <td>2015-09-27 03:00:00</td>\n",
       "      <td>27.0</td>\n",
       "      <td>31.2</td>\n",
       "      <td>26.0</td>\n",
       "      <td>94.27</td>\n",
       "      <td>0.6</td>\n",
       "      <td>100</td>\n",
       "      <td>rain</td>\n",
       "      <td>0.0</td>\n",
       "      <td>0.0</td>\n",
       "      <td>8.6</td>\n",
       "      <td>0.9</td>\n",
       "      <td>360.0</td>\n",
       "      <td>1007.0</td>\n",
       "      <td>0.0</td>\n",
       "      <td>4.0</td>\n",
       "      <td>0.0</td>\n",
       "      <td>0.0</td>\n",
       "      <td>0.0</td>\n",
       "      <td>NaN</td>\n",
       "      <td>Rain</td>\n",
       "      <td>rain</td>\n",
       "      <td>obs</td>\n",
       "    </tr>\n",
       "    <tr>\n",
       "      <th>4</th>\n",
       "      <td>Hanoi</td>\n",
       "      <td>Hanoi</td>\n",
       "      <td>Hanoi</td>\n",
       "      <td>21</td>\n",
       "      <td>105.85</td>\n",
       "      <td>2015-09-27 04:00:00</td>\n",
       "      <td>26.3</td>\n",
       "      <td>26.3</td>\n",
       "      <td>25.7</td>\n",
       "      <td>96.87</td>\n",
       "      <td>0.0</td>\n",
       "      <td>0</td>\n",
       "      <td>NaN</td>\n",
       "      <td>0.0</td>\n",
       "      <td>0.0</td>\n",
       "      <td>9.7</td>\n",
       "      <td>1.2</td>\n",
       "      <td>12.0</td>\n",
       "      <td>1007.7</td>\n",
       "      <td>0.5</td>\n",
       "      <td>8.6</td>\n",
       "      <td>0.0</td>\n",
       "      <td>0.0</td>\n",
       "      <td>0.0</td>\n",
       "      <td>NaN</td>\n",
       "      <td>Clear</td>\n",
       "      <td>clear-night</td>\n",
       "      <td>obs</td>\n",
       "    </tr>\n",
       "  </tbody>\n",
       "</table>\n",
       "</div>"
      ],
      "text/plain": [
       "    name address resolvedAddress  latitude  longitude            datetime  \\\n",
       "0  Hanoi   Hanoi           Hanoi        21     105.85 2015-09-27 00:00:00   \n",
       "1  Hanoi   Hanoi           Hanoi        21     105.85 2015-09-27 01:00:00   \n",
       "2  Hanoi   Hanoi           Hanoi        21     105.85 2015-09-27 02:00:00   \n",
       "3  Hanoi   Hanoi           Hanoi        21     105.85 2015-09-27 03:00:00   \n",
       "4  Hanoi   Hanoi           Hanoi        21     105.85 2015-09-27 04:00:00   \n",
       "\n",
       "   temp  feelslike   dew  humidity  precip  precipprob preciptype  snow  \\\n",
       "0  27.0       31.2  26.0     94.27     0.1         100       rain   0.0   \n",
       "1  26.5       26.5  25.9     96.32     0.0           0        NaN   0.0   \n",
       "2  27.0       31.2  26.0     94.27     0.9         100       rain   0.0   \n",
       "3  27.0       31.2  26.0     94.27     0.6         100       rain   0.0   \n",
       "4  26.3       26.3  25.7     96.87     0.0           0        NaN   0.0   \n",
       "\n",
       "   snowdepth  windgust  windspeed  winddir  sealevelpressure  cloudcover  \\\n",
       "0        0.0       6.5        5.4    106.6            1007.0         0.0   \n",
       "1        0.0       5.8        1.5    344.0            1008.0         1.3   \n",
       "2        0.0       8.3        0.9     20.2            1007.0        44.0   \n",
       "3        0.0       8.6        0.9    360.0            1007.0         0.0   \n",
       "4        0.0       9.7        1.2     12.0            1007.7         0.5   \n",
       "\n",
       "   visibility  solarradiation  solarenergy  uvindex  severerisk  \\\n",
       "0         3.0             0.0          0.0      0.0         NaN   \n",
       "1         8.9             0.0          0.0      0.0         NaN   \n",
       "2         4.5             0.0          0.0      0.0         NaN   \n",
       "3         4.0             0.0          0.0      0.0         NaN   \n",
       "4         8.6             0.0          0.0      0.0         NaN   \n",
       "\n",
       "               conditions         icon source  \n",
       "0                    Rain         rain    obs  \n",
       "1                   Clear  clear-night    obs  \n",
       "2  Rain, Partially cloudy         rain    obs  \n",
       "3                    Rain         rain    obs  \n",
       "4                   Clear  clear-night    obs  "
      ]
     },
     "metadata": {},
     "output_type": "display_data"
    },
    {
     "name": "stdout",
     "output_type": "stream",
     "text": [
      "\n",
      "🔍 COLUMN ANALYSIS:\n",
      "----------------------------------------\n",
      "Column Names and Types:\n",
      " 1. name                 | object       | Non-null: 87,696\n",
      " 2. address              | object       | Non-null: 87,696\n",
      " 3. resolvedAddress      | object       | Non-null: 87,696\n",
      " 4. latitude             | int64        | Non-null: 87,696\n",
      " 5. longitude            | float64      | Non-null: 87,696\n",
      " 6. datetime             | datetime64[ns] | Non-null: 87,696\n",
      " 7. temp                 | float64      | Non-null: 87,696\n",
      " 8. feelslike            | float64      | Non-null: 87,696\n",
      " 9. dew                  | float64      | Non-null: 87,696\n",
      "10. humidity             | float64      | Non-null: 87,696\n",
      "11. precip               | float64      | Non-null: 87,659\n",
      "12. precipprob           | int64        | Non-null: 87,696\n",
      "13. preciptype           | object       | Non-null: 7,503\n",
      "14. snow                 | float64      | Non-null: 87,655\n",
      "15. snowdepth            | float64      | Non-null: 87,655\n",
      "16. windgust             | float64      | Non-null: 87,648\n",
      "17. windspeed            | float64      | Non-null: 87,695\n",
      "18. winddir              | float64      | Non-null: 87,694\n",
      "19. sealevelpressure     | float64      | Non-null: 87,696\n",
      "20. cloudcover           | float64      | Non-null: 87,696\n",
      "21. visibility           | float64      | Non-null: 87,480\n",
      "22. solarradiation       | float64      | Non-null: 87,660\n",
      "23. solarenergy          | float64      | Non-null: 87,660\n",
      "24. uvindex              | float64      | Non-null: 87,660\n",
      "25. severerisk           | float64      | Non-null: 3,840\n",
      "26. conditions           | object       | Non-null: 87,696\n",
      "27. icon                 | object       | Non-null: 87,696\n",
      "28. source               | object       | Non-null: 87,696\n",
      "\n",
      "📊 STATISTICAL SUMMARY (Numeric Columns):\n",
      "----------------------------------------\n"
     ]
    },
    {
     "data": {
      "text/html": [
       "<div>\n",
       "<style scoped>\n",
       "    .dataframe tbody tr th:only-of-type {\n",
       "        vertical-align: middle;\n",
       "    }\n",
       "\n",
       "    .dataframe tbody tr th {\n",
       "        vertical-align: top;\n",
       "    }\n",
       "\n",
       "    .dataframe thead th {\n",
       "        text-align: right;\n",
       "    }\n",
       "</style>\n",
       "<table border=\"1\" class=\"dataframe\">\n",
       "  <thead>\n",
       "    <tr style=\"text-align: right;\">\n",
       "      <th></th>\n",
       "      <th>latitude</th>\n",
       "      <th>longitude</th>\n",
       "      <th>datetime</th>\n",
       "      <th>temp</th>\n",
       "      <th>feelslike</th>\n",
       "      <th>dew</th>\n",
       "      <th>humidity</th>\n",
       "      <th>precip</th>\n",
       "      <th>precipprob</th>\n",
       "      <th>snow</th>\n",
       "      <th>snowdepth</th>\n",
       "      <th>windgust</th>\n",
       "      <th>windspeed</th>\n",
       "      <th>winddir</th>\n",
       "      <th>sealevelpressure</th>\n",
       "      <th>cloudcover</th>\n",
       "      <th>visibility</th>\n",
       "      <th>solarradiation</th>\n",
       "      <th>solarenergy</th>\n",
       "      <th>uvindex</th>\n",
       "      <th>severerisk</th>\n",
       "    </tr>\n",
       "  </thead>\n",
       "  <tbody>\n",
       "    <tr>\n",
       "      <th>count</th>\n",
       "      <td>87696.0</td>\n",
       "      <td>8.769600e+04</td>\n",
       "      <td>87696</td>\n",
       "      <td>87696.000000</td>\n",
       "      <td>87696.000000</td>\n",
       "      <td>87696.000000</td>\n",
       "      <td>87696.000000</td>\n",
       "      <td>87659.000000</td>\n",
       "      <td>87696.000000</td>\n",
       "      <td>87655.0</td>\n",
       "      <td>87655.0</td>\n",
       "      <td>87648.000000</td>\n",
       "      <td>87695.000000</td>\n",
       "      <td>87694.000000</td>\n",
       "      <td>87696.000000</td>\n",
       "      <td>87696.000000</td>\n",
       "      <td>87480.000000</td>\n",
       "      <td>87660.000000</td>\n",
       "      <td>87660.000000</td>\n",
       "      <td>87660.000000</td>\n",
       "      <td>3840.000000</td>\n",
       "    </tr>\n",
       "    <tr>\n",
       "      <th>mean</th>\n",
       "      <td>21.0</td>\n",
       "      <td>1.058500e+02</td>\n",
       "      <td>2020-09-26 23:30:00</td>\n",
       "      <td>24.837318</td>\n",
       "      <td>27.309565</td>\n",
       "      <td>20.421809</td>\n",
       "      <td>78.247121</td>\n",
       "      <td>0.218036</td>\n",
       "      <td>8.152025</td>\n",
       "      <td>0.0</td>\n",
       "      <td>0.0</td>\n",
       "      <td>17.341566</td>\n",
       "      <td>9.221488</td>\n",
       "      <td>142.935597</td>\n",
       "      <td>1011.197993</td>\n",
       "      <td>64.407258</td>\n",
       "      <td>8.603593</td>\n",
       "      <td>154.215529</td>\n",
       "      <td>0.554636</td>\n",
       "      <td>1.535467</td>\n",
       "      <td>10.844271</td>\n",
       "    </tr>\n",
       "    <tr>\n",
       "      <th>min</th>\n",
       "      <td>21.0</td>\n",
       "      <td>1.058500e+02</td>\n",
       "      <td>2015-09-27 00:00:00</td>\n",
       "      <td>5.900000</td>\n",
       "      <td>2.100000</td>\n",
       "      <td>-8.000000</td>\n",
       "      <td>17.590000</td>\n",
       "      <td>0.000000</td>\n",
       "      <td>0.000000</td>\n",
       "      <td>0.0</td>\n",
       "      <td>0.0</td>\n",
       "      <td>1.100000</td>\n",
       "      <td>0.000000</td>\n",
       "      <td>0.000000</td>\n",
       "      <td>985.000000</td>\n",
       "      <td>0.000000</td>\n",
       "      <td>0.000000</td>\n",
       "      <td>0.000000</td>\n",
       "      <td>0.000000</td>\n",
       "      <td>0.000000</td>\n",
       "      <td>3.000000</td>\n",
       "    </tr>\n",
       "    <tr>\n",
       "      <th>25%</th>\n",
       "      <td>21.0</td>\n",
       "      <td>1.058500e+02</td>\n",
       "      <td>2018-03-28 11:45:00</td>\n",
       "      <td>21.000000</td>\n",
       "      <td>21.000000</td>\n",
       "      <td>17.000000</td>\n",
       "      <td>67.150000</td>\n",
       "      <td>0.000000</td>\n",
       "      <td>0.000000</td>\n",
       "      <td>0.0</td>\n",
       "      <td>0.0</td>\n",
       "      <td>11.500000</td>\n",
       "      <td>5.400000</td>\n",
       "      <td>65.000000</td>\n",
       "      <td>1005.000000</td>\n",
       "      <td>34.500000</td>\n",
       "      <td>7.000000</td>\n",
       "      <td>0.000000</td>\n",
       "      <td>0.000000</td>\n",
       "      <td>0.000000</td>\n",
       "      <td>10.000000</td>\n",
       "    </tr>\n",
       "    <tr>\n",
       "      <th>50%</th>\n",
       "      <td>21.0</td>\n",
       "      <td>1.058500e+02</td>\n",
       "      <td>2020-09-26 23:30:00</td>\n",
       "      <td>25.700000</td>\n",
       "      <td>25.700000</td>\n",
       "      <td>22.100000</td>\n",
       "      <td>81.860000</td>\n",
       "      <td>0.000000</td>\n",
       "      <td>0.000000</td>\n",
       "      <td>0.0</td>\n",
       "      <td>0.0</td>\n",
       "      <td>16.600000</td>\n",
       "      <td>8.500000</td>\n",
       "      <td>118.000000</td>\n",
       "      <td>1011.000000</td>\n",
       "      <td>81.200000</td>\n",
       "      <td>10.000000</td>\n",
       "      <td>5.500000</td>\n",
       "      <td>0.000000</td>\n",
       "      <td>0.000000</td>\n",
       "      <td>10.000000</td>\n",
       "    </tr>\n",
       "    <tr>\n",
       "      <th>75%</th>\n",
       "      <td>21.0</td>\n",
       "      <td>1.058500e+02</td>\n",
       "      <td>2023-03-29 11:15:00</td>\n",
       "      <td>29.000000</td>\n",
       "      <td>34.000000</td>\n",
       "      <td>25.000000</td>\n",
       "      <td>91.450000</td>\n",
       "      <td>0.000000</td>\n",
       "      <td>0.000000</td>\n",
       "      <td>0.0</td>\n",
       "      <td>0.0</td>\n",
       "      <td>22.000000</td>\n",
       "      <td>12.000000</td>\n",
       "      <td>189.400000</td>\n",
       "      <td>1017.000000</td>\n",
       "      <td>90.000000</td>\n",
       "      <td>10.000000</td>\n",
       "      <td>246.700000</td>\n",
       "      <td>0.900000</td>\n",
       "      <td>2.000000</td>\n",
       "      <td>10.000000</td>\n",
       "    </tr>\n",
       "    <tr>\n",
       "      <th>max</th>\n",
       "      <td>21.0</td>\n",
       "      <td>1.058500e+02</td>\n",
       "      <td>2025-09-27 23:00:00</td>\n",
       "      <td>41.900000</td>\n",
       "      <td>52.500000</td>\n",
       "      <td>31.000000</td>\n",
       "      <td>100.000000</td>\n",
       "      <td>186.240000</td>\n",
       "      <td>100.000000</td>\n",
       "      <td>0.0</td>\n",
       "      <td>0.0</td>\n",
       "      <td>118.800000</td>\n",
       "      <td>53.600000</td>\n",
       "      <td>360.000000</td>\n",
       "      <td>1041.000000</td>\n",
       "      <td>100.000000</td>\n",
       "      <td>24.100000</td>\n",
       "      <td>1003.400000</td>\n",
       "      <td>3.600000</td>\n",
       "      <td>10.000000</td>\n",
       "      <td>75.000000</td>\n",
       "    </tr>\n",
       "    <tr>\n",
       "      <th>std</th>\n",
       "      <td>0.0</td>\n",
       "      <td>1.744819e-10</td>\n",
       "      <td>NaN</td>\n",
       "      <td>5.589906</td>\n",
       "      <td>8.482175</td>\n",
       "      <td>5.991473</td>\n",
       "      <td>15.862294</td>\n",
       "      <td>2.678485</td>\n",
       "      <td>27.363398</td>\n",
       "      <td>0.0</td>\n",
       "      <td>0.0</td>\n",
       "      <td>7.701515</td>\n",
       "      <td>4.787909</td>\n",
       "      <td>105.093954</td>\n",
       "      <td>7.317338</td>\n",
       "      <td>34.582003</td>\n",
       "      <td>2.802476</td>\n",
       "      <td>234.408601</td>\n",
       "      <td>0.844611</td>\n",
       "      <td>2.357551</td>\n",
       "      <td>6.015065</td>\n",
       "    </tr>\n",
       "  </tbody>\n",
       "</table>\n",
       "</div>"
      ],
      "text/plain": [
       "       latitude     longitude             datetime          temp  \\\n",
       "count   87696.0  8.769600e+04                87696  87696.000000   \n",
       "mean       21.0  1.058500e+02  2020-09-26 23:30:00     24.837318   \n",
       "min        21.0  1.058500e+02  2015-09-27 00:00:00      5.900000   \n",
       "25%        21.0  1.058500e+02  2018-03-28 11:45:00     21.000000   \n",
       "50%        21.0  1.058500e+02  2020-09-26 23:30:00     25.700000   \n",
       "75%        21.0  1.058500e+02  2023-03-29 11:15:00     29.000000   \n",
       "max        21.0  1.058500e+02  2025-09-27 23:00:00     41.900000   \n",
       "std         0.0  1.744819e-10                  NaN      5.589906   \n",
       "\n",
       "          feelslike           dew      humidity        precip    precipprob  \\\n",
       "count  87696.000000  87696.000000  87696.000000  87659.000000  87696.000000   \n",
       "mean      27.309565     20.421809     78.247121      0.218036      8.152025   \n",
       "min        2.100000     -8.000000     17.590000      0.000000      0.000000   \n",
       "25%       21.000000     17.000000     67.150000      0.000000      0.000000   \n",
       "50%       25.700000     22.100000     81.860000      0.000000      0.000000   \n",
       "75%       34.000000     25.000000     91.450000      0.000000      0.000000   \n",
       "max       52.500000     31.000000    100.000000    186.240000    100.000000   \n",
       "std        8.482175      5.991473     15.862294      2.678485     27.363398   \n",
       "\n",
       "          snow  snowdepth      windgust     windspeed       winddir  \\\n",
       "count  87655.0    87655.0  87648.000000  87695.000000  87694.000000   \n",
       "mean       0.0        0.0     17.341566      9.221488    142.935597   \n",
       "min        0.0        0.0      1.100000      0.000000      0.000000   \n",
       "25%        0.0        0.0     11.500000      5.400000     65.000000   \n",
       "50%        0.0        0.0     16.600000      8.500000    118.000000   \n",
       "75%        0.0        0.0     22.000000     12.000000    189.400000   \n",
       "max        0.0        0.0    118.800000     53.600000    360.000000   \n",
       "std        0.0        0.0      7.701515      4.787909    105.093954   \n",
       "\n",
       "       sealevelpressure    cloudcover    visibility  solarradiation  \\\n",
       "count      87696.000000  87696.000000  87480.000000    87660.000000   \n",
       "mean        1011.197993     64.407258      8.603593      154.215529   \n",
       "min          985.000000      0.000000      0.000000        0.000000   \n",
       "25%         1005.000000     34.500000      7.000000        0.000000   \n",
       "50%         1011.000000     81.200000     10.000000        5.500000   \n",
       "75%         1017.000000     90.000000     10.000000      246.700000   \n",
       "max         1041.000000    100.000000     24.100000     1003.400000   \n",
       "std            7.317338     34.582003      2.802476      234.408601   \n",
       "\n",
       "        solarenergy       uvindex   severerisk  \n",
       "count  87660.000000  87660.000000  3840.000000  \n",
       "mean       0.554636      1.535467    10.844271  \n",
       "min        0.000000      0.000000     3.000000  \n",
       "25%        0.000000      0.000000    10.000000  \n",
       "50%        0.000000      0.000000    10.000000  \n",
       "75%        0.900000      2.000000    10.000000  \n",
       "max        3.600000     10.000000    75.000000  \n",
       "std        0.844611      2.357551     6.015065  "
      ]
     },
     "metadata": {},
     "output_type": "display_data"
    }
   ],
   "source": [
    "# Display first few rows and column analysis\n",
    "print(\"📋 FIRST 5 ROWS:\")\n",
    "print(\"-\" * 40)\n",
    "display(df_hourly.head())\n",
    "\n",
    "print(\"\\n🔍 COLUMN ANALYSIS:\")\n",
    "print(\"-\" * 40)\n",
    "print(\"Column Names and Types:\")\n",
    "for i, (col, dtype) in enumerate(zip(df_hourly.columns, df_hourly.dtypes)):\n",
    "    print(f\"{i+1:2d}. {col:<20} | {str(dtype):<12} | Non-null: {df_hourly[col].count():,}\")\n",
    "\n",
    "print(f\"\\n📊 STATISTICAL SUMMARY (Numeric Columns):\")\n",
    "print(\"-\" * 40)\n",
    "display(df_hourly.describe())"
   ]
  },
  {
   "cell_type": "markdown",
   "id": "29d0d102",
   "metadata": {},
   "source": [
    "## 🕐 Hourly vs Daily Data Comparison\n",
    "\n",
    "Key differences between hourly and daily datasets:\n",
    "\n",
    "### **Dataset Size**\n",
    "- **Daily**: ~3,660 records (10 years × 365 days)\n",
    "- **Hourly**: ~87,698 records (10 years × 365 days × 24 hours)\n",
    "- **Scale**: ~24x more data points\n",
    "\n",
    "### **Unique Hourly Features**\n",
    "1. **Diurnal Patterns**: Within-day temperature cycles\n",
    "2. **Rush Hour Effects**: Human activity patterns\n",
    "3. **Rapid Weather Changes**: Storm fronts, temperature drops\n",
    "4. **Solar Radiation Cycles**: Hourly solar energy variations\n",
    "5. **Wind Pattern Changes**: Hourly wind direction/speed variations\n",
    "\n",
    "### **New Forecasting Opportunities**\n",
    "- **Intraday Predictions**: Specific hour temperature forecasts\n",
    "- **Peak Time Identification**: Daily max/min timing\n",
    "- **Weather Event Timing**: Precise precipitation/storm timing\n",
    "- **Energy Management**: Hour-by-hour HVAC optimization"
   ]
  },
  {
   "cell_type": "code",
   "execution_count": 4,
   "id": "aae7e521",
   "metadata": {},
   "outputs": [
    {
     "name": "stdout",
     "output_type": "stream",
     "text": [
      "🌅 DIURNAL TEMPERATURE PATTERNS\n",
      "==================================================\n",
      "Average Temperature by Hour of Day:\n",
      "       mean   std  min   max\n",
      "hour                        \n",
      "0     23.42  4.88  7.0  34.0\n",
      "1     23.40  4.85  7.3  32.6\n",
      "2     22.94  4.83  7.0  32.0\n",
      "3     22.74  4.81  6.0  32.0\n",
      "4     22.89  4.83  6.4  31.5\n",
      "5     22.49  4.81  6.0  31.5\n",
      "6     22.49  4.89  6.0  31.5\n",
      "7     23.06  5.09  6.1  33.5\n",
      "8     23.78  5.30  6.0  34.5\n",
      "9     24.72  5.46  6.0  36.5\n",
      "10    25.64  5.58  5.9  38.3\n",
      "11    26.36  5.70  6.0  38.5\n",
      "12    26.96  5.78  6.0  40.0\n",
      "13    27.52  5.85  6.4  40.8\n",
      "14    27.65  5.91  7.0  41.0\n",
      "15    27.67  5.90  7.0  40.5\n",
      "16    27.64  5.85  7.5  41.9\n",
      "17    26.72  5.72  7.0  40.0\n",
      "18    25.87  5.51  7.0  39.0\n",
      "19    25.37  5.27  7.3  38.0\n",
      "20    24.67  5.13  7.0  37.0\n",
      "21    24.29  4.99  7.0  36.0\n",
      "22    24.11  4.91  7.3  34.2\n",
      "23    23.68  4.88  7.0  34.0\n"
     ]
    },
    {
     "data": {
      "application/vnd.plotly.v1+json": {
       "config": {
        "plotlyServerURL": "https://plot.ly"
       },
       "data": [
        {
         "line": {
          "color": "red",
          "width": 3
         },
         "mode": "lines+markers",
         "name": "Average Temperature",
         "type": "scatter",
         "x": {
          "bdata": "AAAAAAEAAAACAAAAAwAAAAQAAAAFAAAABgAAAAcAAAAIAAAACQAAAAoAAAALAAAADAAAAA0AAAAOAAAADwAAABAAAAARAAAAEgAAABMAAAAUAAAAFQAAABYAAAAXAAAA",
          "dtype": "i4"
         },
         "xaxis": "x",
         "y": {
          "bdata": "7FG4HoVrN0BmZmZmZmY3QHE9Ctej8DZAPQrXo3C9NkCkcD0K1+M2QD0K16NwfTZAPQrXo3B9NkCPwvUoXA83QEjhehSuxzdAuB6F61G4OECkcD0K16M5QFyPwvUoXDpA9ihcj8L1OkCF61G4HoU7QGZmZmZmpjtA7FG4HoWrO0CkcD0K16M7QLgehetRuDpAH4XrUbjeOUAfhetRuF45QOxRuB6FqzhACtejcD1KOEBcj8L1KBw4QK5H4XoUrjdA",
          "dtype": "f8"
         },
         "yaxis": "y"
        },
        {
         "line": {
          "color": "orange"
         },
         "mode": "lines",
         "name": "Max Temperature",
         "type": "scatter",
         "x": {
          "bdata": "AAAAAAEAAAACAAAAAwAAAAQAAAAFAAAABgAAAAcAAAAIAAAACQAAAAoAAAALAAAADAAAAA0AAAAOAAAADwAAABAAAAARAAAAEgAAABMAAAAUAAAAFQAAABYAAAAXAAAA",
          "dtype": "i4"
         },
         "xaxis": "x2",
         "y": {
          "bdata": "AAAAAAAAQUDNzMzMzExAQAAAAAAAAEBAAAAAAAAAQEAAAAAAAIA/QAAAAAAAgD9AAAAAAACAP0AAAAAAAMBAQAAAAAAAQEFAAAAAAABAQkBmZmZmZiZDQAAAAAAAQENAAAAAAAAAREBmZmZmZmZEQAAAAAAAgERAAAAAAABAREAzMzMzM/NEQAAAAAAAAERAAAAAAACAQ0AAAAAAAABDQAAAAAAAgEJAAAAAAAAAQkCamZmZmRlBQAAAAAAAAEFA",
          "dtype": "f8"
         },
         "yaxis": "y2"
        },
        {
         "line": {
          "color": "blue"
         },
         "mode": "lines",
         "name": "Min Temperature",
         "type": "scatter",
         "x": {
          "bdata": "AAAAAAEAAAACAAAAAwAAAAQAAAAFAAAABgAAAAcAAAAIAAAACQAAAAoAAAALAAAADAAAAA0AAAAOAAAADwAAABAAAAARAAAAEgAAABMAAAAUAAAAFQAAABYAAAAXAAAA",
          "dtype": "i4"
         },
         "xaxis": "x2",
         "y": {
          "bdata": "AAAAAAAAHEAzMzMzMzMdQAAAAAAAABxAAAAAAAAAGECamZmZmZkZQAAAAAAAABhAAAAAAAAAGEBmZmZmZmYYQAAAAAAAABhAAAAAAAAAGECamZmZmZkXQAAAAAAAABhAAAAAAAAAGECamZmZmZkZQAAAAAAAABxAAAAAAAAAHEAAAAAAAAAeQAAAAAAAABxAAAAAAAAAHEAzMzMzMzMdQAAAAAAAABxAAAAAAAAAHEAzMzMzMzMdQAAAAAAAABxA",
          "dtype": "f8"
         },
         "yaxis": "y2"
        },
        {
         "colorscale": [
          [
           0,
           "rgb(49,54,149)"
          ],
          [
           0.1,
           "rgb(69,117,180)"
          ],
          [
           0.2,
           "rgb(116,173,209)"
          ],
          [
           0.3,
           "rgb(171,217,233)"
          ],
          [
           0.4,
           "rgb(224,243,248)"
          ],
          [
           0.5,
           "rgb(255,255,191)"
          ],
          [
           0.6,
           "rgb(254,224,144)"
          ],
          [
           0.7,
           "rgb(253,174,97)"
          ],
          [
           0.8,
           "rgb(244,109,67)"
          ],
          [
           0.9,
           "rgb(215,48,39)"
          ],
          [
           1,
           "rgb(165,0,38)"
          ]
         ],
         "name": "Temperature (°C)",
         "type": "heatmap",
         "x": {
          "bdata": "AQAAAAIAAAADAAAABAAAAAUAAAAGAAAABwAAAAgAAAAJAAAACgAAAAsAAAAMAAAA",
          "dtype": "i4"
         },
         "xaxis": "x3",
         "y": {
          "bdata": "AAAAAAEAAAACAAAAAwAAAAQAAAAFAAAABgAAAAcAAAAIAAAACQAAAAoAAAALAAAADAAAAA0AAAAOAAAADwAAABAAAAARAAAAEgAAABMAAAAUAAAAFQAAABYAAAAXAAAA",
          "dtype": "i4"
         },
         "yaxis": "y3",
         "z": {
          "bdata": "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",
          "dtype": "f8",
          "shape": "24, 12"
         }
        }
       ],
       "layout": {
        "annotations": [
         {
          "font": {
           "size": 16
          },
          "showarrow": false,
          "text": "Hourly Temperature Pattern",
          "x": 0.225,
          "xanchor": "center",
          "xref": "paper",
          "y": 1,
          "yanchor": "bottom",
          "yref": "paper"
         },
         {
          "font": {
           "size": 16
          },
          "showarrow": false,
          "text": "Temperature Range by Hour",
          "x": 0.775,
          "xanchor": "center",
          "xref": "paper",
          "y": 1,
          "yanchor": "bottom",
          "yref": "paper"
         },
         {
          "font": {
           "size": 16
          },
          "showarrow": false,
          "text": "Monthly-Hourly Heatmap",
          "x": 0.5,
          "xanchor": "center",
          "xref": "paper",
          "y": 0.44,
          "yanchor": "bottom",
          "yref": "paper"
         }
        ],
        "height": 800,
        "showlegend": true,
        "template": {
         "data": {
          "bar": [
           {
            "error_x": {
             "color": "#2a3f5f"
            },
            "error_y": {
             "color": "#2a3f5f"
            },
            "marker": {
             "line": {
              "color": "#E5ECF6",
              "width": 0.5
             },
             "pattern": {
              "fillmode": "overlay",
              "size": 10,
              "solidity": 0.2
             }
            },
            "type": "bar"
           }
          ],
          "barpolar": [
           {
            "marker": {
             "line": {
              "color": "#E5ECF6",
              "width": 0.5
             },
             "pattern": {
              "fillmode": "overlay",
              "size": 10,
              "solidity": 0.2
             }
            },
            "type": "barpolar"
           }
          ],
          "carpet": [
           {
            "aaxis": {
             "endlinecolor": "#2a3f5f",
             "gridcolor": "white",
             "linecolor": "white",
             "minorgridcolor": "white",
             "startlinecolor": "#2a3f5f"
            },
            "baxis": {
             "endlinecolor": "#2a3f5f",
             "gridcolor": "white",
             "linecolor": "white",
             "minorgridcolor": "white",
             "startlinecolor": "#2a3f5f"
            },
            "type": "carpet"
           }
          ],
          "choropleth": [
           {
            "colorbar": {
             "outlinewidth": 0,
             "ticks": ""
            },
            "type": "choropleth"
           }
          ],
          "contour": [
           {
            "colorbar": {
             "outlinewidth": 0,
             "ticks": ""
            },
            "colorscale": [
             [
              0,
              "#0d0887"
             ],
             [
              0.1111111111111111,
              "#46039f"
             ],
             [
              0.2222222222222222,
              "#7201a8"
             ],
             [
              0.3333333333333333,
              "#9c179e"
             ],
             [
              0.4444444444444444,
              "#bd3786"
             ],
             [
              0.5555555555555556,
              "#d8576b"
             ],
             [
              0.6666666666666666,
              "#ed7953"
             ],
             [
              0.7777777777777778,
              "#fb9f3a"
             ],
             [
              0.8888888888888888,
              "#fdca26"
             ],
             [
              1,
              "#f0f921"
             ]
            ],
            "type": "contour"
           }
          ],
          "contourcarpet": [
           {
            "colorbar": {
             "outlinewidth": 0,
             "ticks": ""
            },
            "type": "contourcarpet"
           }
          ],
          "heatmap": [
           {
            "colorbar": {
             "outlinewidth": 0,
             "ticks": ""
            },
            "colorscale": [
             [
              0,
              "#0d0887"
             ],
             [
              0.1111111111111111,
              "#46039f"
             ],
             [
              0.2222222222222222,
              "#7201a8"
             ],
             [
              0.3333333333333333,
              "#9c179e"
             ],
             [
              0.4444444444444444,
              "#bd3786"
             ],
             [
              0.5555555555555556,
              "#d8576b"
             ],
             [
              0.6666666666666666,
              "#ed7953"
             ],
             [
              0.7777777777777778,
              "#fb9f3a"
             ],
             [
              0.8888888888888888,
              "#fdca26"
             ],
             [
              1,
              "#f0f921"
             ]
            ],
            "type": "heatmap"
           }
          ],
          "histogram": [
           {
            "marker": {
             "pattern": {
              "fillmode": "overlay",
              "size": 10,
              "solidity": 0.2
             }
            },
            "type": "histogram"
           }
          ],
          "histogram2d": [
           {
            "colorbar": {
             "outlinewidth": 0,
             "ticks": ""
            },
            "colorscale": [
             [
              0,
              "#0d0887"
             ],
             [
              0.1111111111111111,
              "#46039f"
             ],
             [
              0.2222222222222222,
              "#7201a8"
             ],
             [
              0.3333333333333333,
              "#9c179e"
             ],
             [
              0.4444444444444444,
              "#bd3786"
             ],
             [
              0.5555555555555556,
              "#d8576b"
             ],
             [
              0.6666666666666666,
              "#ed7953"
             ],
             [
              0.7777777777777778,
              "#fb9f3a"
             ],
             [
              0.8888888888888888,
              "#fdca26"
             ],
             [
              1,
              "#f0f921"
             ]
            ],
            "type": "histogram2d"
           }
          ],
          "histogram2dcontour": [
           {
            "colorbar": {
             "outlinewidth": 0,
             "ticks": ""
            },
            "colorscale": [
             [
              0,
              "#0d0887"
             ],
             [
              0.1111111111111111,
              "#46039f"
             ],
             [
              0.2222222222222222,
              "#7201a8"
             ],
             [
              0.3333333333333333,
              "#9c179e"
             ],
             [
              0.4444444444444444,
              "#bd3786"
             ],
             [
              0.5555555555555556,
              "#d8576b"
             ],
             [
              0.6666666666666666,
              "#ed7953"
             ],
             [
              0.7777777777777778,
              "#fb9f3a"
             ],
             [
              0.8888888888888888,
              "#fdca26"
             ],
             [
              1,
              "#f0f921"
             ]
            ],
            "type": "histogram2dcontour"
           }
          ],
          "mesh3d": [
           {
            "colorbar": {
             "outlinewidth": 0,
             "ticks": ""
            },
            "type": "mesh3d"
           }
          ],
          "parcoords": [
           {
            "line": {
             "colorbar": {
              "outlinewidth": 0,
              "ticks": ""
             }
            },
            "type": "parcoords"
           }
          ],
          "pie": [
           {
            "automargin": true,
            "type": "pie"
           }
          ],
          "scatter": [
           {
            "fillpattern": {
             "fillmode": "overlay",
             "size": 10,
             "solidity": 0.2
            },
            "type": "scatter"
           }
          ],
          "scatter3d": [
           {
            "line": {
             "colorbar": {
              "outlinewidth": 0,
              "ticks": ""
             }
            },
            "marker": {
             "colorbar": {
              "outlinewidth": 0,
              "ticks": ""
             }
            },
            "type": "scatter3d"
           }
          ],
          "scattercarpet": [
           {
            "marker": {
             "colorbar": {
              "outlinewidth": 0,
              "ticks": ""
             }
            },
            "type": "scattercarpet"
           }
          ],
          "scattergeo": [
           {
            "marker": {
             "colorbar": {
              "outlinewidth": 0,
              "ticks": ""
             }
            },
            "type": "scattergeo"
           }
          ],
          "scattergl": [
           {
            "marker": {
             "colorbar": {
              "outlinewidth": 0,
              "ticks": ""
             }
            },
            "type": "scattergl"
           }
          ],
          "scattermap": [
           {
            "marker": {
             "colorbar": {
              "outlinewidth": 0,
              "ticks": ""
             }
            },
            "type": "scattermap"
           }
          ],
          "scattermapbox": [
           {
            "marker": {
             "colorbar": {
              "outlinewidth": 0,
              "ticks": ""
             }
            },
            "type": "scattermapbox"
           }
          ],
          "scatterpolar": [
           {
            "marker": {
             "colorbar": {
              "outlinewidth": 0,
              "ticks": ""
             }
            },
            "type": "scatterpolar"
           }
          ],
          "scatterpolargl": [
           {
            "marker": {
             "colorbar": {
              "outlinewidth": 0,
              "ticks": ""
             }
            },
            "type": "scatterpolargl"
           }
          ],
          "scatterternary": [
           {
            "marker": {
             "colorbar": {
              "outlinewidth": 0,
              "ticks": ""
             }
            },
            "type": "scatterternary"
           }
          ],
          "surface": [
           {
            "colorbar": {
             "outlinewidth": 0,
             "ticks": ""
            },
            "colorscale": [
             [
              0,
              "#0d0887"
             ],
             [
              0.1111111111111111,
              "#46039f"
             ],
             [
              0.2222222222222222,
              "#7201a8"
             ],
             [
              0.3333333333333333,
              "#9c179e"
             ],
             [
              0.4444444444444444,
              "#bd3786"
             ],
             [
              0.5555555555555556,
              "#d8576b"
             ],
             [
              0.6666666666666666,
              "#ed7953"
             ],
             [
              0.7777777777777778,
              "#fb9f3a"
             ],
             [
              0.8888888888888888,
              "#fdca26"
             ],
             [
              1,
              "#f0f921"
             ]
            ],
            "type": "surface"
           }
          ],
          "table": [
           {
            "cells": {
             "fill": {
              "color": "#EBF0F8"
             },
             "line": {
              "color": "white"
             }
            },
            "header": {
             "fill": {
              "color": "#C8D4E3"
             },
             "line": {
              "color": "white"
             }
            },
            "type": "table"
           }
          ]
         },
         "layout": {
          "annotationdefaults": {
           "arrowcolor": "#2a3f5f",
           "arrowhead": 0,
           "arrowwidth": 1
          },
          "autotypenumbers": "strict",
          "coloraxis": {
           "colorbar": {
            "outlinewidth": 0,
            "ticks": ""
           }
          },
          "colorscale": {
           "diverging": [
            [
             0,
             "#8e0152"
            ],
            [
             0.1,
             "#c51b7d"
            ],
            [
             0.2,
             "#de77ae"
            ],
            [
             0.3,
             "#f1b6da"
            ],
            [
             0.4,
             "#fde0ef"
            ],
            [
             0.5,
             "#f7f7f7"
            ],
            [
             0.6,
             "#e6f5d0"
            ],
            [
             0.7,
             "#b8e186"
            ],
            [
             0.8,
             "#7fbc41"
            ],
            [
             0.9,
             "#4d9221"
            ],
            [
             1,
             "#276419"
            ]
           ],
           "sequential": [
            [
             0,
             "#0d0887"
            ],
            [
             0.1111111111111111,
             "#46039f"
            ],
            [
             0.2222222222222222,
             "#7201a8"
            ],
            [
             0.3333333333333333,
             "#9c179e"
            ],
            [
             0.4444444444444444,
             "#bd3786"
            ],
            [
             0.5555555555555556,
             "#d8576b"
            ],
            [
             0.6666666666666666,
             "#ed7953"
            ],
            [
             0.7777777777777778,
             "#fb9f3a"
            ],
            [
             0.8888888888888888,
             "#fdca26"
            ],
            [
             1,
             "#f0f921"
            ]
           ],
           "sequentialminus": [
            [
             0,
             "#0d0887"
            ],
            [
             0.1111111111111111,
             "#46039f"
            ],
            [
             0.2222222222222222,
             "#7201a8"
            ],
            [
             0.3333333333333333,
             "#9c179e"
            ],
            [
             0.4444444444444444,
             "#bd3786"
            ],
            [
             0.5555555555555556,
             "#d8576b"
            ],
            [
             0.6666666666666666,
             "#ed7953"
            ],
            [
             0.7777777777777778,
             "#fb9f3a"
            ],
            [
             0.8888888888888888,
             "#fdca26"
            ],
            [
             1,
             "#f0f921"
            ]
           ]
          },
          "colorway": [
           "#636efa",
           "#EF553B",
           "#00cc96",
           "#ab63fa",
           "#FFA15A",
           "#19d3f3",
           "#FF6692",
           "#B6E880",
           "#FF97FF",
           "#FECB52"
          ],
          "font": {
           "color": "#2a3f5f"
          },
          "geo": {
           "bgcolor": "white",
           "lakecolor": "white",
           "landcolor": "#E5ECF6",
           "showlakes": true,
           "showland": true,
           "subunitcolor": "white"
          },
          "hoverlabel": {
           "align": "left"
          },
          "hovermode": "closest",
          "mapbox": {
           "style": "light"
          },
          "paper_bgcolor": "white",
          "plot_bgcolor": "#E5ECF6",
          "polar": {
           "angularaxis": {
            "gridcolor": "white",
            "linecolor": "white",
            "ticks": ""
           },
           "bgcolor": "#E5ECF6",
           "radialaxis": {
            "gridcolor": "white",
            "linecolor": "white",
            "ticks": ""
           }
          },
          "scene": {
           "xaxis": {
            "backgroundcolor": "#E5ECF6",
            "gridcolor": "white",
            "gridwidth": 2,
            "linecolor": "white",
            "showbackground": true,
            "ticks": "",
            "zerolinecolor": "white"
           },
           "yaxis": {
            "backgroundcolor": "#E5ECF6",
            "gridcolor": "white",
            "gridwidth": 2,
            "linecolor": "white",
            "showbackground": true,
            "ticks": "",
            "zerolinecolor": "white"
           },
           "zaxis": {
            "backgroundcolor": "#E5ECF6",
            "gridcolor": "white",
            "gridwidth": 2,
            "linecolor": "white",
            "showbackground": true,
            "ticks": "",
            "zerolinecolor": "white"
           }
          },
          "shapedefaults": {
           "line": {
            "color": "#2a3f5f"
           }
          },
          "ternary": {
           "aaxis": {
            "gridcolor": "white",
            "linecolor": "white",
            "ticks": ""
           },
           "baxis": {
            "gridcolor": "white",
            "linecolor": "white",
            "ticks": ""
           },
           "bgcolor": "#E5ECF6",
           "caxis": {
            "gridcolor": "white",
            "linecolor": "white",
            "ticks": ""
           }
          },
          "title": {
           "x": 0.05
          },
          "xaxis": {
           "automargin": true,
           "gridcolor": "white",
           "linecolor": "white",
           "ticks": "",
           "title": {
            "standoff": 15
           },
           "zerolinecolor": "white",
           "zerolinewidth": 2
          },
          "yaxis": {
           "automargin": true,
           "gridcolor": "white",
           "linecolor": "white",
           "ticks": "",
           "title": {
            "standoff": 15
           },
           "zerolinecolor": "white",
           "zerolinewidth": 2
          }
         }
        },
        "title": {
         "text": "🌡️ Diurnal Temperature Patterns Analysis"
        },
        "xaxis": {
         "anchor": "y",
         "domain": [
          0,
          0.45
         ]
        },
        "xaxis2": {
         "anchor": "y2",
         "domain": [
          0.55,
          1
         ]
        },
        "xaxis3": {
         "anchor": "y3",
         "domain": [
          0,
          1
         ]
        },
        "yaxis": {
         "anchor": "x",
         "domain": [
          0.56,
          1
         ]
        },
        "yaxis2": {
         "anchor": "x2",
         "domain": [
          0.56,
          1
         ]
        },
        "yaxis3": {
         "anchor": "x3",
         "domain": [
          0,
          0.44
         ]
        }
       }
      }
     },
     "metadata": {},
     "output_type": "display_data"
    },
    {
     "name": "stdout",
     "output_type": "stream",
     "text": [
      "\n",
      "🔍 KEY INSIGHTS:\n",
      "------------------------------\n",
      "Coolest hour: 5:00 (22.5°C)\n",
      "Warmest hour: 15:00 (27.7°C)\n",
      "Daily temperature swing: 5.2°C\n",
      "Most variable hour: 14:00 (std: 5.9°C)\n",
      "Least variable hour: 3:00 (std: 4.8°C)\n"
     ]
    }
   ],
   "source": [
    "# Diurnal Pattern Analysis - The Heart of Hourly Data\n",
    "print(\"🌅 DIURNAL TEMPERATURE PATTERNS\")\n",
    "print(\"=\" * 50)\n",
    "\n",
    "# Extract hour from datetime\n",
    "df_hourly['hour'] = df_hourly['datetime'].dt.hour\n",
    "df_hourly['month'] = df_hourly['datetime'].dt.month\n",
    "df_hourly['day_of_week'] = df_hourly['datetime'].dt.dayofweek\n",
    "\n",
    "# Calculate hourly averages\n",
    "hourly_avg_temp = df_hourly.groupby('hour')['temp'].agg(['mean', 'std', 'min', 'max']).round(2)\n",
    "print(\"Average Temperature by Hour of Day:\")\n",
    "print(hourly_avg_temp)\n",
    "\n",
    "# Create diurnal pattern visualization\n",
    "fig = make_subplots(\n",
    "    rows=2, cols=2,\n",
    "    subplot_titles=('Hourly Temperature Pattern', 'Temperature Range by Hour', \n",
    "                   'Monthly-Hourly Heatmap', 'Weekend vs Weekday Pattern'),\n",
    "    specs=[[{\"secondary_y\": False}, {\"secondary_y\": False}],\n",
    "           [{\"colspan\": 2}, None]],\n",
    "    vertical_spacing=0.12\n",
    ")\n",
    "\n",
    "# Plot 1: Hourly average temperature\n",
    "fig.add_trace(\n",
    "    go.Scatter(x=hourly_avg_temp.index, y=hourly_avg_temp['mean'],\n",
    "              mode='lines+markers', name='Average Temperature',\n",
    "              line=dict(color='red', width=3)),\n",
    "    row=1, col=1\n",
    ")\n",
    "\n",
    "# Plot 2: Temperature range by hour\n",
    "fig.add_trace(\n",
    "    go.Scatter(x=hourly_avg_temp.index, y=hourly_avg_temp['max'],\n",
    "              mode='lines', name='Max Temperature', line=dict(color='orange')),\n",
    "    row=1, col=2\n",
    ")\n",
    "fig.add_trace(\n",
    "    go.Scatter(x=hourly_avg_temp.index, y=hourly_avg_temp['min'],\n",
    "              mode='lines', name='Min Temperature', line=dict(color='blue')),\n",
    "    row=1, col=2\n",
    ")\n",
    "\n",
    "# Plot 3: Monthly-Hourly heatmap\n",
    "monthly_hourly = df_hourly.groupby(['month', 'hour'])['temp'].mean().unstack(level=0)\n",
    "fig.add_trace(\n",
    "    go.Heatmap(z=monthly_hourly.values, x=monthly_hourly.columns, y=monthly_hourly.index,\n",
    "              colorscale='RdYlBu_r', name='Temperature (°C)'),\n",
    "    row=2, col=1\n",
    ")\n",
    "\n",
    "fig.update_layout(height=800, showlegend=True, \n",
    "                 title_text=\"🌡️ Diurnal Temperature Patterns Analysis\")\n",
    "fig.show()\n",
    "\n",
    "print(f\"\\n🔍 KEY INSIGHTS:\")\n",
    "print(\"-\" * 30)\n",
    "coolest_hour = hourly_avg_temp['mean'].idxmin()\n",
    "warmest_hour = hourly_avg_temp['mean'].idxmax()\n",
    "print(f\"Coolest hour: {coolest_hour}:00 ({hourly_avg_temp.loc[coolest_hour, 'mean']:.1f}°C)\")\n",
    "print(f\"Warmest hour: {warmest_hour}:00 ({hourly_avg_temp.loc[warmest_hour, 'mean']:.1f}°C)\")\n",
    "print(f\"Daily temperature swing: {hourly_avg_temp['mean'].max() - hourly_avg_temp['mean'].min():.1f}°C\")\n",
    "print(f\"Most variable hour: {hourly_avg_temp['std'].idxmax()}:00 (std: {hourly_avg_temp['std'].max():.1f}°C)\")\n",
    "print(f\"Least variable hour: {hourly_avg_temp['std'].idxmin()}:00 (std: {hourly_avg_temp['std'].min():.1f}°C)\")"
   ]
  },
  {
   "cell_type": "code",
   "execution_count": 5,
   "id": "d9e7d7f8",
   "metadata": {},
   "outputs": [
    {
     "name": "stdout",
     "output_type": "stream",
     "text": [
      "🕳️ MISSING VALUES ANALYSIS\n",
      "========================================\n",
      "Columns with Missing Values:\n",
      "                        Column  Missing_Count  Missing_Percentage Data_Type\n",
      "severerisk          severerisk          83856               95.62   float64\n",
      "preciptype          preciptype          80193               91.44    object\n",
      "visibility          visibility            216                0.25   float64\n",
      "snow                      snow             41                0.05   float64\n",
      "windgust              windgust             48                0.05   float64\n",
      "snowdepth            snowdepth             41                0.05   float64\n",
      "precip                  precip             37                0.04   float64\n",
      "solarradiation  solarradiation             36                0.04   float64\n",
      "solarenergy        solarenergy             36                0.04   float64\n",
      "uvindex                uvindex             36                0.04   float64\n",
      "winddir                winddir              2                0.00   float64\n",
      "windspeed            windspeed              1                0.00   float64\n"
     ]
    },
    {
     "data": {
      "application/vnd.plotly.v1+json": {
       "config": {
        "plotlyServerURL": "https://plot.ly"
       },
       "data": [
        {
         "name": "Missing Values %",
         "text": {
          "bdata": "AAAAAAB59EAAAAAAEJTzQAAAAAAAAGtAAAAAAACAREAAAAAAAABIQAAAAAAAgERAAAAAAACAQkAAAAAAAABCQAAAAAAAAEJAAAAAAAAAQkAAAAAAAAAAQAAAAAAAAPA/",
          "dtype": "f8"
         },
         "textposition": "auto",
         "type": "bar",
         "x": [
          "severerisk",
          "preciptype",
          "visibility",
          "snow",
          "windgust",
          "snowdepth",
          "precip",
          "solarradiation",
          "solarenergy",
          "uvindex",
          "winddir",
          "windspeed"
         ],
         "y": {
          "bdata": "SOF6FK7nV0Bcj8L1KNxWQAAAAAAAANA/mpmZmZmZqT+amZmZmZmpP5qZmZmZmak/exSuR+F6pD97FK5H4XqkP3sUrkfheqQ/exSuR+F6pD8AAAAAAAAAAAAAAAAAAAAA",
          "dtype": "f8"
         }
        }
       ],
       "layout": {
        "height": 400,
        "template": {
         "data": {
          "bar": [
           {
            "error_x": {
             "color": "#2a3f5f"
            },
            "error_y": {
             "color": "#2a3f5f"
            },
            "marker": {
             "line": {
              "color": "#E5ECF6",
              "width": 0.5
             },
             "pattern": {
              "fillmode": "overlay",
              "size": 10,
              "solidity": 0.2
             }
            },
            "type": "bar"
           }
          ],
          "barpolar": [
           {
            "marker": {
             "line": {
              "color": "#E5ECF6",
              "width": 0.5
             },
             "pattern": {
              "fillmode": "overlay",
              "size": 10,
              "solidity": 0.2
             }
            },
            "type": "barpolar"
           }
          ],
          "carpet": [
           {
            "aaxis": {
             "endlinecolor": "#2a3f5f",
             "gridcolor": "white",
             "linecolor": "white",
             "minorgridcolor": "white",
             "startlinecolor": "#2a3f5f"
            },
            "baxis": {
             "endlinecolor": "#2a3f5f",
             "gridcolor": "white",
             "linecolor": "white",
             "minorgridcolor": "white",
             "startlinecolor": "#2a3f5f"
            },
            "type": "carpet"
           }
          ],
          "choropleth": [
           {
            "colorbar": {
             "outlinewidth": 0,
             "ticks": ""
            },
            "type": "choropleth"
           }
          ],
          "contour": [
           {
            "colorbar": {
             "outlinewidth": 0,
             "ticks": ""
            },
            "colorscale": [
             [
              0,
              "#0d0887"
             ],
             [
              0.1111111111111111,
              "#46039f"
             ],
             [
              0.2222222222222222,
              "#7201a8"
             ],
             [
              0.3333333333333333,
              "#9c179e"
             ],
             [
              0.4444444444444444,
              "#bd3786"
             ],
             [
              0.5555555555555556,
              "#d8576b"
             ],
             [
              0.6666666666666666,
              "#ed7953"
             ],
             [
              0.7777777777777778,
              "#fb9f3a"
             ],
             [
              0.8888888888888888,
              "#fdca26"
             ],
             [
              1,
              "#f0f921"
             ]
            ],
            "type": "contour"
           }
          ],
          "contourcarpet": [
           {
            "colorbar": {
             "outlinewidth": 0,
             "ticks": ""
            },
            "type": "contourcarpet"
           }
          ],
          "heatmap": [
           {
            "colorbar": {
             "outlinewidth": 0,
             "ticks": ""
            },
            "colorscale": [
             [
              0,
              "#0d0887"
             ],
             [
              0.1111111111111111,
              "#46039f"
             ],
             [
              0.2222222222222222,
              "#7201a8"
             ],
             [
              0.3333333333333333,
              "#9c179e"
             ],
             [
              0.4444444444444444,
              "#bd3786"
             ],
             [
              0.5555555555555556,
              "#d8576b"
             ],
             [
              0.6666666666666666,
              "#ed7953"
             ],
             [
              0.7777777777777778,
              "#fb9f3a"
             ],
             [
              0.8888888888888888,
              "#fdca26"
             ],
             [
              1,
              "#f0f921"
             ]
            ],
            "type": "heatmap"
           }
          ],
          "histogram": [
           {
            "marker": {
             "pattern": {
              "fillmode": "overlay",
              "size": 10,
              "solidity": 0.2
             }
            },
            "type": "histogram"
           }
          ],
          "histogram2d": [
           {
            "colorbar": {
             "outlinewidth": 0,
             "ticks": ""
            },
            "colorscale": [
             [
              0,
              "#0d0887"
             ],
             [
              0.1111111111111111,
              "#46039f"
             ],
             [
              0.2222222222222222,
              "#7201a8"
             ],
             [
              0.3333333333333333,
              "#9c179e"
             ],
             [
              0.4444444444444444,
              "#bd3786"
             ],
             [
              0.5555555555555556,
              "#d8576b"
             ],
             [
              0.6666666666666666,
              "#ed7953"
             ],
             [
              0.7777777777777778,
              "#fb9f3a"
             ],
             [
              0.8888888888888888,
              "#fdca26"
             ],
             [
              1,
              "#f0f921"
             ]
            ],
            "type": "histogram2d"
           }
          ],
          "histogram2dcontour": [
           {
            "colorbar": {
             "outlinewidth": 0,
             "ticks": ""
            },
            "colorscale": [
             [
              0,
              "#0d0887"
             ],
             [
              0.1111111111111111,
              "#46039f"
             ],
             [
              0.2222222222222222,
              "#7201a8"
             ],
             [
              0.3333333333333333,
              "#9c179e"
             ],
             [
              0.4444444444444444,
              "#bd3786"
             ],
             [
              0.5555555555555556,
              "#d8576b"
             ],
             [
              0.6666666666666666,
              "#ed7953"
             ],
             [
              0.7777777777777778,
              "#fb9f3a"
             ],
             [
              0.8888888888888888,
              "#fdca26"
             ],
             [
              1,
              "#f0f921"
             ]
            ],
            "type": "histogram2dcontour"
           }
          ],
          "mesh3d": [
           {
            "colorbar": {
             "outlinewidth": 0,
             "ticks": ""
            },
            "type": "mesh3d"
           }
          ],
          "parcoords": [
           {
            "line": {
             "colorbar": {
              "outlinewidth": 0,
              "ticks": ""
             }
            },
            "type": "parcoords"
           }
          ],
          "pie": [
           {
            "automargin": true,
            "type": "pie"
           }
          ],
          "scatter": [
           {
            "fillpattern": {
             "fillmode": "overlay",
             "size": 10,
             "solidity": 0.2
            },
            "type": "scatter"
           }
          ],
          "scatter3d": [
           {
            "line": {
             "colorbar": {
              "outlinewidth": 0,
              "ticks": ""
             }
            },
            "marker": {
             "colorbar": {
              "outlinewidth": 0,
              "ticks": ""
             }
            },
            "type": "scatter3d"
           }
          ],
          "scattercarpet": [
           {
            "marker": {
             "colorbar": {
              "outlinewidth": 0,
              "ticks": ""
             }
            },
            "type": "scattercarpet"
           }
          ],
          "scattergeo": [
           {
            "marker": {
             "colorbar": {
              "outlinewidth": 0,
              "ticks": ""
             }
            },
            "type": "scattergeo"
           }
          ],
          "scattergl": [
           {
            "marker": {
             "colorbar": {
              "outlinewidth": 0,
              "ticks": ""
             }
            },
            "type": "scattergl"
           }
          ],
          "scattermap": [
           {
            "marker": {
             "colorbar": {
              "outlinewidth": 0,
              "ticks": ""
             }
            },
            "type": "scattermap"
           }
          ],
          "scattermapbox": [
           {
            "marker": {
             "colorbar": {
              "outlinewidth": 0,
              "ticks": ""
             }
            },
            "type": "scattermapbox"
           }
          ],
          "scatterpolar": [
           {
            "marker": {
             "colorbar": {
              "outlinewidth": 0,
              "ticks": ""
             }
            },
            "type": "scatterpolar"
           }
          ],
          "scatterpolargl": [
           {
            "marker": {
             "colorbar": {
              "outlinewidth": 0,
              "ticks": ""
             }
            },
            "type": "scatterpolargl"
           }
          ],
          "scatterternary": [
           {
            "marker": {
             "colorbar": {
              "outlinewidth": 0,
              "ticks": ""
             }
            },
            "type": "scatterternary"
           }
          ],
          "surface": [
           {
            "colorbar": {
             "outlinewidth": 0,
             "ticks": ""
            },
            "colorscale": [
             [
              0,
              "#0d0887"
             ],
             [
              0.1111111111111111,
              "#46039f"
             ],
             [
              0.2222222222222222,
              "#7201a8"
             ],
             [
              0.3333333333333333,
              "#9c179e"
             ],
             [
              0.4444444444444444,
              "#bd3786"
             ],
             [
              0.5555555555555556,
              "#d8576b"
             ],
             [
              0.6666666666666666,
              "#ed7953"
             ],
             [
              0.7777777777777778,
              "#fb9f3a"
             ],
             [
              0.8888888888888888,
              "#fdca26"
             ],
             [
              1,
              "#f0f921"
             ]
            ],
            "type": "surface"
           }
          ],
          "table": [
           {
            "cells": {
             "fill": {
              "color": "#EBF0F8"
             },
             "line": {
              "color": "white"
             }
            },
            "header": {
             "fill": {
              "color": "#C8D4E3"
             },
             "line": {
              "color": "white"
             }
            },
            "type": "table"
           }
          ]
         },
         "layout": {
          "annotationdefaults": {
           "arrowcolor": "#2a3f5f",
           "arrowhead": 0,
           "arrowwidth": 1
          },
          "autotypenumbers": "strict",
          "coloraxis": {
           "colorbar": {
            "outlinewidth": 0,
            "ticks": ""
           }
          },
          "colorscale": {
           "diverging": [
            [
             0,
             "#8e0152"
            ],
            [
             0.1,
             "#c51b7d"
            ],
            [
             0.2,
             "#de77ae"
            ],
            [
             0.3,
             "#f1b6da"
            ],
            [
             0.4,
             "#fde0ef"
            ],
            [
             0.5,
             "#f7f7f7"
            ],
            [
             0.6,
             "#e6f5d0"
            ],
            [
             0.7,
             "#b8e186"
            ],
            [
             0.8,
             "#7fbc41"
            ],
            [
             0.9,
             "#4d9221"
            ],
            [
             1,
             "#276419"
            ]
           ],
           "sequential": [
            [
             0,
             "#0d0887"
            ],
            [
             0.1111111111111111,
             "#46039f"
            ],
            [
             0.2222222222222222,
             "#7201a8"
            ],
            [
             0.3333333333333333,
             "#9c179e"
            ],
            [
             0.4444444444444444,
             "#bd3786"
            ],
            [
             0.5555555555555556,
             "#d8576b"
            ],
            [
             0.6666666666666666,
             "#ed7953"
            ],
            [
             0.7777777777777778,
             "#fb9f3a"
            ],
            [
             0.8888888888888888,
             "#fdca26"
            ],
            [
             1,
             "#f0f921"
            ]
           ],
           "sequentialminus": [
            [
             0,
             "#0d0887"
            ],
            [
             0.1111111111111111,
             "#46039f"
            ],
            [
             0.2222222222222222,
             "#7201a8"
            ],
            [
             0.3333333333333333,
             "#9c179e"
            ],
            [
             0.4444444444444444,
             "#bd3786"
            ],
            [
             0.5555555555555556,
             "#d8576b"
            ],
            [
             0.6666666666666666,
             "#ed7953"
            ],
            [
             0.7777777777777778,
             "#fb9f3a"
            ],
            [
             0.8888888888888888,
             "#fdca26"
            ],
            [
             1,
             "#f0f921"
            ]
           ]
          },
          "colorway": [
           "#636efa",
           "#EF553B",
           "#00cc96",
           "#ab63fa",
           "#FFA15A",
           "#19d3f3",
           "#FF6692",
           "#B6E880",
           "#FF97FF",
           "#FECB52"
          ],
          "font": {
           "color": "#2a3f5f"
          },
          "geo": {
           "bgcolor": "white",
           "lakecolor": "white",
           "landcolor": "#E5ECF6",
           "showlakes": true,
           "showland": true,
           "subunitcolor": "white"
          },
          "hoverlabel": {
           "align": "left"
          },
          "hovermode": "closest",
          "mapbox": {
           "style": "light"
          },
          "paper_bgcolor": "white",
          "plot_bgcolor": "#E5ECF6",
          "polar": {
           "angularaxis": {
            "gridcolor": "white",
            "linecolor": "white",
            "ticks": ""
           },
           "bgcolor": "#E5ECF6",
           "radialaxis": {
            "gridcolor": "white",
            "linecolor": "white",
            "ticks": ""
           }
          },
          "scene": {
           "xaxis": {
            "backgroundcolor": "#E5ECF6",
            "gridcolor": "white",
            "gridwidth": 2,
            "linecolor": "white",
            "showbackground": true,
            "ticks": "",
            "zerolinecolor": "white"
           },
           "yaxis": {
            "backgroundcolor": "#E5ECF6",
            "gridcolor": "white",
            "gridwidth": 2,
            "linecolor": "white",
            "showbackground": true,
            "ticks": "",
            "zerolinecolor": "white"
           },
           "zaxis": {
            "backgroundcolor": "#E5ECF6",
            "gridcolor": "white",
            "gridwidth": 2,
            "linecolor": "white",
            "showbackground": true,
            "ticks": "",
            "zerolinecolor": "white"
           }
          },
          "shapedefaults": {
           "line": {
            "color": "#2a3f5f"
           }
          },
          "ternary": {
           "aaxis": {
            "gridcolor": "white",
            "linecolor": "white",
            "ticks": ""
           },
           "baxis": {
            "gridcolor": "white",
            "linecolor": "white",
            "ticks": ""
           },
           "bgcolor": "#E5ECF6",
           "caxis": {
            "gridcolor": "white",
            "linecolor": "white",
            "ticks": ""
           }
          },
          "title": {
           "x": 0.05
          },
          "xaxis": {
           "automargin": true,
           "gridcolor": "white",
           "linecolor": "white",
           "ticks": "",
           "title": {
            "standoff": 15
           },
           "zerolinecolor": "white",
           "zerolinewidth": 2
          },
          "yaxis": {
           "automargin": true,
           "gridcolor": "white",
           "linecolor": "white",
           "ticks": "",
           "title": {
            "standoff": 15
           },
           "zerolinecolor": "white",
           "zerolinewidth": 2
          }
         }
        },
        "title": {
         "text": "Missing Values by Column (Hourly Dataset)"
        },
        "xaxis": {
         "title": {
          "text": "Columns"
         }
        },
        "yaxis": {
         "title": {
          "text": "Missing Percentage (%)"
         }
        }
       }
      }
     },
     "metadata": {},
     "output_type": "display_data"
    },
    {
     "name": "stdout",
     "output_type": "stream",
     "text": [
      "\n",
      "🕐 TEMPORAL SEQUENCE ANALYSIS:\n",
      "----------------------------------------\n",
      "✅ No gaps found in hourly sequence!\n",
      "\n",
      "📊 TEMPORAL DATA QUALITY METRICS:\n",
      "----------------------------------------\n",
      "Expected total hours: 87695\n",
      "Actual hours recorded: 87696\n",
      "Data completeness: 100.00%\n",
      "Missing hours: -1\n"
     ]
    }
   ],
   "source": [
    "# Missing Values Analysis for Hourly Data\n",
    "print(\"🕳️ MISSING VALUES ANALYSIS\")\n",
    "print(\"=\" * 40)\n",
    "\n",
    "missing_summary = pd.DataFrame({\n",
    "    'Column': df_hourly.columns,\n",
    "    'Missing_Count': df_hourly.isnull().sum(),\n",
    "    'Missing_Percentage': (df_hourly.isnull().sum() / len(df_hourly) * 100).round(2),\n",
    "    'Data_Type': df_hourly.dtypes\n",
    "})\n",
    "\n",
    "missing_summary = missing_summary[missing_summary['Missing_Count'] > 0].sort_values('Missing_Percentage', ascending=False)\n",
    "print(\"Columns with Missing Values:\")\n",
    "print(missing_summary)\n",
    "\n",
    "# Visualize missing values pattern\n",
    "if len(missing_summary) > 0:\n",
    "    fig = go.Figure()\n",
    "    fig.add_trace(go.Bar(\n",
    "        x=missing_summary['Column'],\n",
    "        y=missing_summary['Missing_Percentage'],\n",
    "        text=missing_summary['Missing_Count'],\n",
    "        textposition='auto',\n",
    "        name='Missing Values %'\n",
    "    ))\n",
    "    fig.update_layout(\n",
    "        title='Missing Values by Column (Hourly Dataset)',\n",
    "        xaxis_title='Columns',\n",
    "        yaxis_title='Missing Percentage (%)',\n",
    "        height=400\n",
    "    )\n",
    "    fig.show()\n",
    "else:\n",
    "    print(\"✅ No missing values found in the dataset!\")\n",
    "\n",
    "# Check for temporal gaps in hourly sequence\n",
    "print(f\"\\n🕐 TEMPORAL SEQUENCE ANALYSIS:\")\n",
    "print(\"-\" * 40)\n",
    "df_sorted = df_hourly.sort_values('datetime')\n",
    "time_diffs = df_sorted['datetime'].diff()\n",
    "expected_diff = pd.Timedelta(hours=1)\n",
    "\n",
    "gaps = time_diffs[time_diffs > expected_diff]\n",
    "if len(gaps) > 0:\n",
    "    print(f\"Found {len(gaps)} gaps in hourly sequence:\")\n",
    "    gap_summary = df_sorted[time_diffs > expected_diff][['datetime']].head(10)\n",
    "    print(gap_summary)\n",
    "    print(f\"Largest gap: {gaps.max()}\")\n",
    "else:\n",
    "    print(\"✅ No gaps found in hourly sequence!\")\n",
    "\n",
    "print(f\"\\n📊 TEMPORAL DATA QUALITY METRICS:\")\n",
    "print(\"-\" * 40)\n",
    "total_expected_hours = (df_hourly['datetime'].max() - df_hourly['datetime'].min()).total_seconds() / 3600\n",
    "completeness = len(df_hourly) / total_expected_hours * 100\n",
    "print(f\"Expected total hours: {total_expected_hours:.0f}\")\n",
    "print(f\"Actual hours recorded: {len(df_hourly)}\")\n",
    "print(f\"Data completeness: {completeness:.2f}%\")\n",
    "print(f\"Missing hours: {total_expected_hours - len(df_hourly):.0f}\")"
   ]
  }
 ],
 "metadata": {
  "kernelspec": {
   "display_name": "dev",
   "language": "python",
   "name": "python3"
  },
  "language_info": {
   "codemirror_mode": {
    "name": "ipython",
    "version": 3
   },
   "file_extension": ".py",
   "mimetype": "text/x-python",
   "name": "python",
   "nbconvert_exporter": "python",
   "pygments_lexer": "ipython3",
   "version": "3.12.7"
  }
 },
 "nbformat": 4,
 "nbformat_minor": 5
}
