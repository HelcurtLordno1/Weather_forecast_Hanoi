{
 "cells": [
  {
   "cell_type": "markdown",
   "id": "5f93a9c4",
   "metadata": {},
   "source": [
    "# 🔄 Model Performance Monitoring & Retraining Strategy\n",
    "\n",
    "## 🎯 Objective\n",
    "Implement a comprehensive **model monitoring and retraining system** to detect performance degradation and automatically trigger retraining when necessary.\n",
    "\n",
    "## 🔧 Monitoring Framework\n",
    "This notebook implements advanced ML operations (MLOps) practices:\n",
    "\n",
    "1. **Performance Degradation Detection** - Monitor RMSE, MAE, and R² over time\n",
    "2. **Data Drift Detection** - Statistical tests for input feature distribution changes\n",
    "3. **Concept Drift Detection** - Target variable relationship changes\n",
    "4. **Automated Retraining Triggers** - Smart thresholds and decision logic\n",
    "5. **Real-World Simulation** - Test monitoring system with synthetic scenarios\n",
    "\n",
    "## 🚨 Key Questions Addressed\n",
    "- **When should we retrain?** Performance thresholds and drift detection\n",
    "- **What triggers retraining?** Multiple monitoring signals and decision logic\n",
    "- **How to prevent false alarms?** Statistical significance and confidence intervals\n",
    "- **Production deployment?** Monitoring dashboard and alerting system\n",
    "\n",
    "## 📊 Monitoring Metrics\n",
    "- **Performance Metrics**: RMSE, MAE, R², MAPE tracking\n",
    "- **Drift Metrics**: KS-test, PSI, distribution comparisons\n",
    "- **Business Metrics**: Prediction accuracy degradation rates\n",
    "- **System Metrics**: Inference latency and throughput\n",
    "\n",
    "---\n",
    "\n",
    "## 📋 Implementation Pipeline"
   ]
  },
  {
   "cell_type": "code",
   "execution_count": 1,
   "id": "ae5e51e4",
   "metadata": {},
   "outputs": [
    {
     "name": "stdout",
     "output_type": "stream",
     "text": [
      "🔄 MODEL MONITORING & RETRAINING SYSTEM\n",
      "==================================================\n",
      "📊 Performance degradation detection\n",
      "📈 Data and concept drift monitoring\n",
      "🚨 Automated retraining triggers\n",
      "📋 Production monitoring dashboard\n",
      "🧪 Real-world simulation testing\n",
      "==================================================\n"
     ]
    }
   ],
   "source": [
    "# Essential imports for monitoring and retraining\n",
    "import pandas as pd\n",
    "import numpy as np\n",
    "import matplotlib.pyplot as plt\n",
    "import seaborn as sns\n",
    "import warnings\n",
    "warnings.filterwarnings('ignore')\n",
    "\n",
    "# Statistical tests and monitoring\n",
    "from scipy import stats\n",
    "from scipy.stats import ks_2samp, chi2_contingency\n",
    "from sklearn.metrics import mean_squared_error, mean_absolute_error, r2_score\n",
    "from sklearn.model_selection import TimeSeriesSplit\n",
    "\n",
    "# Model loading and utilities\n",
    "import joblib\n",
    "import json\n",
    "import os\n",
    "import sys\n",
    "from datetime import datetime, timedelta\n",
    "from typing import Dict, List, Tuple, Optional\n",
    "\n",
    "# Add project root to path\n",
    "sys.path.append('..')\n",
    "from src.data_utils import load_hanoi_weather_data\n",
    "\n",
    "# Visualization and dashboard\n",
    "import plotly.graph_objects as go\n",
    "import plotly.express as px\n",
    "from plotly.subplots import make_subplots\n",
    "\n",
    "# Display settings\n",
    "pd.set_option('display.max_columns', None)\n",
    "pd.set_option('display.width', None)\n",
    "plt.style.use('seaborn-v0_8')\n",
    "\n",
    "print(\"🔄 MODEL MONITORING & RETRAINING SYSTEM\")\n",
    "print(\"=\" * 50)\n",
    "print(\"📊 Performance degradation detection\")\n",
    "print(\"📈 Data and concept drift monitoring\")\n",
    "print(\"🚨 Automated retraining triggers\")\n",
    "print(\"📋 Production monitoring dashboard\")\n",
    "print(\"🧪 Real-world simulation testing\")\n",
    "print(\"=\" * 50)"
   ]
  },
  {
   "cell_type": "markdown",
   "id": "557e9442",
   "metadata": {},
   "source": [
    "## 1. Load Trained Model and Setup Monitoring Environment"
   ]
  },
  {
   "cell_type": "code",
   "execution_count": 2,
   "id": "4ff730df",
   "metadata": {},
   "outputs": [
    {
     "name": "stdout",
     "output_type": "stream",
     "text": [
      "✅ Loaded model: ../models/trained\\best_model_adaboost_optimized.joblib\n",
      "📋 Loaded 79 feature columns\n",
      "\n",
      "🤖 Model Information:\n",
      "• Model: AdaBoost (Optimized)\n",
      "• Training date: 2025-10-13\n",
      "• Validation RMSE: 2.3268°C\n",
      "• Test RMSE: 2.0843°C\n",
      "• Features: 79\n",
      "• Forecast horizon: 5 days\n"
     ]
    }
   ],
   "source": [
    "# Load the best trained model from Step 6\n",
    "models_dir = '../models/trained'\n",
    "\n",
    "try:\n",
    "    # Load model metadata\n",
    "    with open(f'{models_dir}/model_metadata.json', 'r') as f:\n",
    "        model_metadata = json.load(f)\n",
    "    \n",
    "    # Load the trained model\n",
    "    model_files = [f for f in os.listdir(models_dir) if f.startswith('best_model_') and f.endswith('.joblib')]\n",
    "    if model_files:\n",
    "        model_path = os.path.join(models_dir, model_files[0])\n",
    "        trained_model = joblib.load(model_path)\n",
    "        print(f\"✅ Loaded model: {model_path}\")\n",
    "    else:\n",
    "        raise FileNotFoundError(\"No trained model found\")\n",
    "    \n",
    "    # Load feature columns\n",
    "    feature_columns = joblib.load(f'{models_dir}/feature_columns.joblib')\n",
    "    print(f\"📋 Loaded {len(feature_columns)} feature columns\")\n",
    "    \n",
    "    # Display model info\n",
    "    print(f\"\\n🤖 Model Information:\")\n",
    "    print(f\"• Model: {model_metadata['model_name']}\")\n",
    "    print(f\"• Training date: {model_metadata['training_date'][:10]}\")\n",
    "    print(f\"• Validation RMSE: {model_metadata['validation_performance']['rmse']:.4f}°C\")\n",
    "    print(f\"• Test RMSE: {model_metadata['test_performance']['rmse']:.4f}°C\")\n",
    "    print(f\"• Features: {model_metadata['feature_count']}\")\n",
    "    print(f\"• Forecast horizon: {model_metadata['forecast_horizon']} days\")\n",
    "    \n",
    "except Exception as e:\n",
    "    print(f\"❌ Error loading model: {str(e)}\")\n",
    "    print(\"Please run the model training notebook (03_model_training_comprehensive.ipynb) first\")\n",
    "    raise"
   ]
  },
  {
   "cell_type": "markdown",
   "id": "68ce54b4",
   "metadata": {},
   "source": [
    "## 2. Model Performance Monitoring Class"
   ]
  },
  {
   "cell_type": "code",
   "execution_count": 3,
   "id": "fe06563b",
   "metadata": {},
   "outputs": [
    {
     "name": "stdout",
     "output_type": "stream",
     "text": [
      "✅ Model Performance Monitor initialized!\n",
      "📊 Baseline RMSE: 2.0843°C\n",
      "📊 Baseline R²: -0.3635\n",
      "🚨 Alert thresholds configured for production monitoring\n"
     ]
    }
   ],
   "source": [
    "class ModelPerformanceMonitor:\n",
    "    \"\"\"\n",
    "    Comprehensive model performance monitoring and retraining decision system\n",
    "    \"\"\"\n",
    "    \n",
    "    def __init__(self, model, feature_columns, baseline_performance, alert_thresholds=None):\n",
    "        self.model = model\n",
    "        self.feature_columns = feature_columns\n",
    "        self.baseline_performance = baseline_performance\n",
    "        \n",
    "        # Default alert thresholds\n",
    "        self.alert_thresholds = alert_thresholds or {\n",
    "            'rmse_degradation_pct': 15.0,  # 15% RMSE increase triggers warning\n",
    "            'rmse_critical_pct': 25.0,     # 25% RMSE increase triggers retraining\n",
    "            'r2_drop_threshold': 0.05,     # R² drop of 0.05 triggers warning\n",
    "            'r2_critical_drop': 0.10,      # R² drop of 0.10 triggers retraining\n",
    "            'drift_p_value': 0.05,         # p-value for statistical drift tests\n",
    "            'consecutive_alerts': 3        # Consecutive alerts before retraining\n",
    "        }\n",
    "        \n",
    "        # Monitoring history\n",
    "        self.performance_history = []\n",
    "        self.drift_history = []\n",
    "        self.alert_count = 0\n",
    "        \n",
    "    def evaluate_performance(self, X, y, date_info=None):\n",
    "        \"\"\"\n",
    "        Evaluate model performance on new data\n",
    "        \"\"\"\n",
    "        predictions = self.model.predict(X)\n",
    "        \n",
    "        # Calculate metrics\n",
    "        rmse = np.sqrt(mean_squared_error(y, predictions))\n",
    "        mae = mean_absolute_error(y, predictions)\n",
    "        r2 = r2_score(y, predictions)\n",
    "        mape = np.mean(np.abs((y - predictions) / y)) * 100\n",
    "        \n",
    "        # Calculate performance degradation\n",
    "        baseline_rmse = self.baseline_performance.get('rmse', rmse)\n",
    "        baseline_r2 = self.baseline_performance.get('r2', r2)\n",
    "        \n",
    "        rmse_degradation = ((rmse - baseline_rmse) / baseline_rmse) * 100\n",
    "        r2_drop = baseline_r2 - r2\n",
    "        \n",
    "        performance_data = {\n",
    "            'timestamp': datetime.now(),\n",
    "            'date_info': date_info,\n",
    "            'rmse': rmse,\n",
    "            'mae': mae,\n",
    "            'r2': r2,\n",
    "            'mape': mape,\n",
    "            'rmse_degradation_pct': rmse_degradation,\n",
    "            'r2_drop': r2_drop,\n",
    "            'sample_count': len(X)\n",
    "        }\n",
    "        \n",
    "        # Store in history\n",
    "        self.performance_history.append(performance_data)\n",
    "        \n",
    "        return performance_data\n",
    "    \n",
    "    def detect_data_drift(self, X_reference, X_current, feature_subset=None):\n",
    "        \"\"\"\n",
    "        Detect data drift using statistical tests\n",
    "        \"\"\"\n",
    "        if feature_subset is None:\n",
    "            features_to_test = self.feature_columns[:20]  # Test top 20 features for speed\n",
    "        else:\n",
    "            features_to_test = feature_subset\n",
    "        \n",
    "        drift_results = {\n",
    "            'timestamp': datetime.now(),\n",
    "            'features_tested': len(features_to_test),\n",
    "            'drift_detected': False,\n",
    "            'drifted_features': [],\n",
    "            'test_results': {}\n",
    "        }\n",
    "        \n",
    "        for feature in features_to_test:\n",
    "            if feature in X_reference.columns and feature in X_current.columns:\n",
    "                # Kolmogorov-Smirnov test for distribution drift\n",
    "                statistic, p_value = ks_2samp(\n",
    "                    X_reference[feature].dropna(),\n",
    "                    X_current[feature].dropna()\n",
    "                )\n",
    "                \n",
    "                drift_results['test_results'][feature] = {\n",
    "                    'ks_statistic': statistic,\n",
    "                    'p_value': p_value,\n",
    "                    'drift_detected': p_value < self.alert_thresholds['drift_p_value']\n",
    "                }\n",
    "                \n",
    "                if p_value < self.alert_thresholds['drift_p_value']:\n",
    "                    drift_results['drifted_features'].append(feature)\n",
    "        \n",
    "        # Overall drift detection\n",
    "        drift_ratio = len(drift_results['drifted_features']) / len(features_to_test)\n",
    "        drift_results['drift_detected'] = drift_ratio > 0.1  # 10% of features showing drift\n",
    "        drift_results['drift_ratio'] = drift_ratio\n",
    "        \n",
    "        # Store in history\n",
    "        self.drift_history.append(drift_results)\n",
    "        \n",
    "        return drift_results\n",
    "    \n",
    "    def should_retrain(self, performance_data=None, drift_data=None):\n",
    "        \"\"\"\n",
    "        Decision logic for when to trigger model retraining\n",
    "        \"\"\"\n",
    "        reasons = []\n",
    "        severity = 'low'\n",
    "        \n",
    "        # Performance-based triggers\n",
    "        if performance_data:\n",
    "            # Critical RMSE degradation\n",
    "            if performance_data['rmse_degradation_pct'] > self.alert_thresholds['rmse_critical_pct']:\n",
    "                reasons.append(f\"Critical RMSE degradation: {performance_data['rmse_degradation_pct']:.1f}%\")\n",
    "                severity = 'critical'\n",
    "            \n",
    "            # Critical R² drop\n",
    "            elif performance_data['r2_drop'] > self.alert_thresholds['r2_critical_drop']:\n",
    "                reasons.append(f\"Critical R² drop: {performance_data['r2_drop']:.3f}\")\n",
    "                severity = 'critical'\n",
    "            \n",
    "            # Warning-level degradation\n",
    "            elif performance_data['rmse_degradation_pct'] > self.alert_thresholds['rmse_degradation_pct']:\n",
    "                self.alert_count += 1\n",
    "                if self.alert_count >= self.alert_thresholds['consecutive_alerts']:\n",
    "                    reasons.append(f\"Consecutive performance alerts: {self.alert_count}\")\n",
    "                    severity = 'high'\n",
    "            else:\n",
    "                self.alert_count = 0  # Reset counter\n",
    "        \n",
    "        # Drift-based triggers\n",
    "        if drift_data and drift_data['drift_detected']:\n",
    "            drift_ratio = drift_data['drift_ratio']\n",
    "            if drift_ratio > 0.2:  # 20% of features drifted\n",
    "                reasons.append(f\"Significant data drift: {drift_ratio:.1%} of features\")\n",
    "                severity = 'high' if severity == 'low' else severity\n",
    "        \n",
    "        # Retraining decision\n",
    "        should_retrain = len(reasons) > 0 and severity in ['high', 'critical']\n",
    "        \n",
    "        return {\n",
    "            'should_retrain': should_retrain,\n",
    "            'severity': severity,\n",
    "            'reasons': reasons,\n",
    "            'alert_count': self.alert_count,\n",
    "            'timestamp': datetime.now()\n",
    "        }\n",
    "    \n",
    "    def generate_monitoring_report(self):\n",
    "        \"\"\"\n",
    "        Generate comprehensive monitoring report\n",
    "        \"\"\"\n",
    "        if not self.performance_history:\n",
    "            return \"No monitoring data available\"\n",
    "        \n",
    "        latest_performance = self.performance_history[-1]\n",
    "        \n",
    "        report = f\"\"\"\n",
    "🔄 MODEL MONITORING REPORT\n",
    "{'='*50}\n",
    "📅 Report Date: {datetime.now().strftime('%Y-%m-%d %H:%M:%S')}\n",
    "🤖 Model: {self.model.__class__.__name__}\n",
    "📊 Monitoring Period: {len(self.performance_history)} evaluations\n",
    "\n",
    "📈 LATEST PERFORMANCE:\n",
    "• RMSE: {latest_performance['rmse']:.4f}°C\n",
    "• R²: {latest_performance['r2']:.4f}\n",
    "• RMSE Degradation: {latest_performance['rmse_degradation_pct']:.1f}%\n",
    "• R² Drop: {latest_performance['r2_drop']:.4f}\n",
    "\n",
    "🚨 ALERT STATUS:\n",
    "• Alert Count: {self.alert_count}\n",
    "• Drift Evaluations: {len(self.drift_history)}\n",
    "\n",
    "⚙️ THRESHOLDS:\n",
    "• RMSE Warning: {self.alert_thresholds['rmse_degradation_pct']:.0f}%\n",
    "• RMSE Critical: {self.alert_thresholds['rmse_critical_pct']:.0f}%\n",
    "• R² Warning: {self.alert_thresholds['r2_drop_threshold']:.3f}\n",
    "• R² Critical: {self.alert_thresholds['r2_critical_drop']:.3f}\n",
    "        \"\"\"\n",
    "        \n",
    "        return report\n",
    "\n",
    "# Initialize monitoring system\n",
    "baseline_perf = {\n",
    "    'rmse': model_metadata['test_performance']['rmse'],\n",
    "    'r2': model_metadata['test_performance']['r2']\n",
    "}\n",
    "\n",
    "monitor = ModelPerformanceMonitor(\n",
    "    model=trained_model,\n",
    "    feature_columns=feature_columns,\n",
    "    baseline_performance=baseline_perf\n",
    ")\n",
    "\n",
    "print(\"✅ Model Performance Monitor initialized!\")\n",
    "print(f\"📊 Baseline RMSE: {baseline_perf['rmse']:.4f}°C\")\n",
    "print(f\"📊 Baseline R²: {baseline_perf['r2']:.4f}\")\n",
    "print(\"🚨 Alert thresholds configured for production monitoring\")"
   ]
  },
  {
   "cell_type": "markdown",
   "id": "5f08c664",
   "metadata": {},
   "source": [
    "## 3. Load and Prepare Monitoring Data"
   ]
  },
  {
   "cell_type": "code",
   "execution_count": 4,
   "id": "a302db59",
   "metadata": {},
   "outputs": [
    {
     "name": "stderr",
     "output_type": "stream",
     "text": [
      "INFO:src.data_utils:Successfully loaded 3660 records from ../data/raw/Hanoi-Daily-10-years.csv\n",
      "INFO:src.data_utils:Date range: 2015-09-20 00:00:00 to 2025-09-26 00:00:00\n",
      "INFO:src.data_utils:Temperature range: 7.0°C to 35.5°C\n"
     ]
    },
    {
     "name": "stdout",
     "output_type": "stream",
     "text": [
      "📊 Loading data for monitoring simulation...\n",
      "✅ Loaded 737 samples for monitoring\n",
      "📅 Date range: 2023-01-03 00:00:00 to 2025-09-21 00:00:00\n",
      "🎯 Monitoring dataset: (737, 79)\n",
      "📊 Features: 79\n",
      "🌡️ Temperature range: 10.2°C to 34.6°C\n"
     ]
    }
   ],
   "source": [
    "# Load the complete dataset for monitoring simulation\n",
    "data_path = '../data/raw/Hanoi-Daily-10-years.csv'\n",
    "\n",
    "# Import feature engineering function from previous notebook\n",
    "def create_forecasting_features(df, target_col='temp', forecast_horizon=5):\n",
    "    \"\"\"\n",
    "    Create comprehensive features for temperature forecasting\n",
    "    (Copied from previous notebook for consistency)\n",
    "    \"\"\"\n",
    "    df = df.copy()\n",
    "    \n",
    "    # Sort by datetime\n",
    "    df = df.sort_values('datetime').reset_index(drop=True)\n",
    "    \n",
    "    # Temporal features\n",
    "    df['year'] = df['datetime'].dt.year\n",
    "    df['month'] = df['datetime'].dt.month\n",
    "    df['day'] = df['datetime'].dt.day\n",
    "    df['dayofweek'] = df['datetime'].dt.dayofweek\n",
    "    df['dayofyear'] = df['datetime'].dt.dayofyear\n",
    "    df['quarter'] = df['datetime'].dt.quarter\n",
    "    \n",
    "    # Cyclical encoding\n",
    "    df['month_sin'] = np.sin(2 * np.pi * df['month'] / 12)\n",
    "    df['month_cos'] = np.cos(2 * np.pi * df['month'] / 12)\n",
    "    df['dayofyear_sin'] = np.sin(2 * np.pi * df['dayofyear'] / 365)\n",
    "    df['dayofyear_cos'] = np.cos(2 * np.pi * df['dayofyear'] / 365)\n",
    "    df['dayofweek_sin'] = np.sin(2 * np.pi * df['dayofweek'] / 7)\n",
    "    df['dayofweek_cos'] = np.cos(2 * np.pi * df['dayofweek'] / 7)\n",
    "    \n",
    "    # Lag features for forecasting\n",
    "    for lag in [1, 2, 3, 5, 7, 14, 30]:\n",
    "        df[f'{target_col}_lag_{lag}'] = df[target_col].shift(lag)\n",
    "        \n",
    "    # Rolling statistics\n",
    "    for window in [3, 7, 14, 30]:\n",
    "        df[f'{target_col}_rolling_mean_{window}'] = df[target_col].rolling(window=window).mean()\n",
    "        df[f'{target_col}_rolling_std_{window}'] = df[target_col].rolling(window=window).std()\n",
    "        df[f'{target_col}_rolling_min_{window}'] = df[target_col].rolling(window=window).min()\n",
    "        df[f'{target_col}_rolling_max_{window}'] = df[target_col].rolling(window=window).max()\n",
    "    \n",
    "    # Temperature differences\n",
    "    df['temp_diff_1d'] = df[target_col] - df[target_col].shift(1)\n",
    "    df['temp_diff_7d'] = df[target_col] - df[target_col].shift(7)\n",
    "    \n",
    "    # Weather feature lags (short-term)\n",
    "    weather_features = ['tempmax', 'tempmin', 'humidity', 'precip', 'windspeed']\n",
    "    for feature in weather_features:\n",
    "        if feature in df.columns:\n",
    "            for lag in [1, 2, 3]:\n",
    "                df[f'{feature}_lag_{lag}'] = df[feature].shift(lag)\n",
    "    \n",
    "    # Create target variable (forecast_horizon days ahead)\n",
    "    df[f'{target_col}_target'] = df[target_col].shift(-forecast_horizon)\n",
    "    \n",
    "    # Season indicators\n",
    "    def get_season(month):\n",
    "        if month in [12, 1, 2]: return 'winter'\n",
    "        elif month in [3, 4, 5]: return 'spring'\n",
    "        elif month in [6, 7, 8]: return 'summer'\n",
    "        else: return 'autumn'\n",
    "    \n",
    "    df['season'] = df['month'].apply(get_season)\n",
    "    df['is_winter'] = (df['season'] == 'winter').astype(int)\n",
    "    df['is_spring'] = (df['season'] == 'spring').astype(int)\n",
    "    df['is_summer'] = (df['season'] == 'summer').astype(int)\n",
    "    df['is_autumn'] = (df['season'] == 'autumn').astype(int)\n",
    "    \n",
    "    return df\n",
    "\n",
    "# Load and process data for monitoring\n",
    "print(\"📊 Loading data for monitoring simulation...\")\n",
    "df_raw = load_hanoi_weather_data(data_path)\n",
    "df_features = create_forecasting_features(df_raw, forecast_horizon=5)\n",
    "df_clean = df_features.dropna().copy()\n",
    "\n",
    "print(f\"✅ Loaded {len(df_clean)} samples for monitoring\")\n",
    "print(f\"📅 Date range: {df_clean['datetime'].min()} to {df_clean['datetime'].max()}\")\n",
    "\n",
    "# Prepare features and target\n",
    "X_monitoring = df_clean[feature_columns].copy()\n",
    "y_monitoring = df_clean['temp_target'].copy()\n",
    "dates_monitoring = df_clean['datetime'].copy()\n",
    "\n",
    "print(f\"🎯 Monitoring dataset: {X_monitoring.shape}\")\n",
    "print(f\"📊 Features: {len(feature_columns)}\")\n",
    "print(f\"🌡️ Temperature range: {y_monitoring.min():.1f}°C to {y_monitoring.max():.1f}°C\")"
   ]
  },
  {
   "cell_type": "markdown",
   "id": "58512a04",
   "metadata": {},
   "source": [
    "## 4. Simulate Real-World Monitoring Scenario"
   ]
  },
  {
   "cell_type": "code",
   "execution_count": 5,
   "id": "f33ab7b0",
   "metadata": {},
   "outputs": [
    {
     "name": "stdout",
     "output_type": "stream",
     "text": [
      "🚀 SIMULATING PRODUCTION MONITORING\n",
      "==================================================\n",
      "📊 Reference period: 515 samples\n",
      "🔄 Monitoring 10 time periods\n",
      "📅 ~73 samples per period\n",
      "\n",
      "📅 Period 1: 2024-11-18 to 2025-04-05 (73 samples)\n",
      "   📊 Drift check: 70.0% features drifted\n",
      "   🎯 RMSE: 2.5432°C (degradation: 22.0%)\n",
      "   📈 R²: 0.2003 (drop: -0.5638)\n",
      "   🚨 RETRAINING ALERT: HIGH\n",
      "     • Significant data drift: 70.0% of features\n",
      "\n",
      "📅 Period 2: 2025-04-06 to 2025-06-28 (73 samples)\n",
      "   🎯 RMSE: 2.0044°C (degradation: -3.8%)\n",
      "   📈 R²: 0.1273 (drop: -0.4908)\n",
      "\n",
      "📅 Period 3: 2025-06-29 to 2025-09-17 (73 samples)\n",
      "   🎯 RMSE: 2.0499°C (degradation: -1.6%)\n",
      "   📈 R²: -0.5178 (drop: 0.1543)\n",
      "   🚨 RETRAINING ALERT: CRITICAL\n",
      "     • Critical R² drop: 0.154\n",
      "\n",
      "✅ Monitoring simulation completed!\n",
      "📊 Periods monitored: 3\n",
      "🚨 Retraining alerts: 2\n"
     ]
    }
   ],
   "source": [
    "# Simulate time-based monitoring with different data periods\n",
    "def simulate_production_monitoring(X, y, dates, monitor, simulation_periods=12):\n",
    "    \"\"\"\n",
    "    Simulate production monitoring over time periods\n",
    "    \"\"\"\n",
    "    print(\"🚀 SIMULATING PRODUCTION MONITORING\")\n",
    "    print(\"=\" * 50)\n",
    "    \n",
    "    # Divide data into time periods (simulate monthly monitoring)\n",
    "    total_samples = len(X)\n",
    "    samples_per_period = total_samples // simulation_periods\n",
    "    \n",
    "    monitoring_results = []\n",
    "    retraining_alerts = []\n",
    "    \n",
    "    # Reference period (training period equivalent)\n",
    "    reference_end = int(total_samples * 0.7)  # First 70% as reference\n",
    "    X_reference = X.iloc[:reference_end]\n",
    "    \n",
    "    print(f\"📊 Reference period: {reference_end:,} samples\")\n",
    "    print(f\"🔄 Monitoring {simulation_periods} time periods\")\n",
    "    print(f\"📅 ~{samples_per_period} samples per period\\n\")\n",
    "    \n",
    "    for period in range(simulation_periods):\n",
    "        # Define period boundaries\n",
    "        start_idx = reference_end + (period * samples_per_period)\n",
    "        end_idx = min(start_idx + samples_per_period, total_samples)\n",
    "        \n",
    "        if start_idx >= total_samples:\n",
    "            break\n",
    "            \n",
    "        # Extract period data\n",
    "        X_period = X.iloc[start_idx:end_idx]\n",
    "        y_period = y.iloc[start_idx:end_idx]\n",
    "        dates_period = dates.iloc[start_idx:end_idx]\n",
    "        \n",
    "        if len(X_period) < 10:  # Skip periods with too few samples\n",
    "            continue\n",
    "        \n",
    "        period_info = {\n",
    "            'period': period + 1,\n",
    "            'start_date': dates_period.min(),\n",
    "            'end_date': dates_period.max(),\n",
    "            'sample_count': len(X_period)\n",
    "        }\n",
    "        \n",
    "        print(f\"📅 Period {period + 1}: {period_info['start_date'].strftime('%Y-%m-%d')} to {period_info['end_date'].strftime('%Y-%m-%d')} ({len(X_period)} samples)\")\n",
    "        \n",
    "        # Evaluate performance\n",
    "        performance_data = monitor.evaluate_performance(X_period, y_period, period_info)\n",
    "        \n",
    "        # Detect data drift (every few periods to reduce computation)\n",
    "        drift_data = None\n",
    "        if period % 3 == 0:  # Check drift every 3 periods\n",
    "            drift_data = monitor.detect_data_drift(X_reference, X_period)\n",
    "            print(f\"   📊 Drift check: {drift_data['drift_ratio']:.1%} features drifted\")\n",
    "        \n",
    "        # Check retraining decision\n",
    "        retraining_decision = monitor.should_retrain(performance_data, drift_data)\n",
    "        \n",
    "        # Log results\n",
    "        period_result = {\n",
    "            'period': period + 1,\n",
    "            'performance': performance_data,\n",
    "            'drift': drift_data,\n",
    "            'retraining_decision': retraining_decision\n",
    "        }\n",
    "        monitoring_results.append(period_result)\n",
    "        \n",
    "        # Print key metrics\n",
    "        print(f\"   🎯 RMSE: {performance_data['rmse']:.4f}°C (degradation: {performance_data['rmse_degradation_pct']:.1f}%)\")\n",
    "        print(f\"   📈 R²: {performance_data['r2']:.4f} (drop: {performance_data['r2_drop']:.4f})\")\n",
    "        \n",
    "        # Retraining alerts\n",
    "        if retraining_decision['should_retrain']:\n",
    "            retraining_alerts.append(period_result)\n",
    "            print(f\"   🚨 RETRAINING ALERT: {retraining_decision['severity'].upper()}\")\n",
    "            for reason in retraining_decision['reasons']:\n",
    "                print(f\"     • {reason}\")\n",
    "        \n",
    "        print()  # Empty line for readability\n",
    "    \n",
    "    return monitoring_results, retraining_alerts\n",
    "\n",
    "# Run monitoring simulation\n",
    "monitoring_results, retraining_alerts = simulate_production_monitoring(\n",
    "    X_monitoring, y_monitoring, dates_monitoring, monitor, simulation_periods=10\n",
    ")\n",
    "\n",
    "print(f\"✅ Monitoring simulation completed!\")\n",
    "print(f\"📊 Periods monitored: {len(monitoring_results)}\")\n",
    "print(f\"🚨 Retraining alerts: {len(retraining_alerts)}\")"
   ]
  },
  {
   "cell_type": "markdown",
   "id": "c6ec311d",
   "metadata": {},
   "source": [
    "## 5. Performance Monitoring Dashboard"
   ]
  },
  {
   "cell_type": "code",
   "execution_count": 6,
   "id": "c9dc20c1",
   "metadata": {},
   "outputs": [
    {
     "data": {
      "application/vnd.plotly.v1+json": {
       "config": {
        "plotlyServerURL": "https://plot.ly"
       },
       "data": [
        {
         "line": {
          "color": "red",
          "width": 2
         },
         "marker": {
          "size": 6
         },
         "mode": "lines+markers",
         "name": "RMSE",
         "type": "scatter",
         "x": [
          1,
          2,
          3
         ],
         "xaxis": "x",
         "y": [
          2.5431973382631767,
          2.0044070476257554,
          2.0499459872859624
         ],
         "yaxis": "y"
        },
        {
         "line": {
          "color": "green",
          "width": 2
         },
         "marker": {
          "size": 6
         },
         "mode": "lines+markers",
         "name": "R²",
         "type": "scatter",
         "x": [
          1,
          2,
          3
         ],
         "xaxis": "x2",
         "y": [
          0.2002687092418538,
          0.1272698019915366,
          -0.5178197126721358
         ],
         "yaxis": "y2"
        },
        {
         "marker": {
          "color": [
           "red",
           "green",
           "green"
          ]
         },
         "name": "RMSE Degradation %",
         "type": "bar",
         "x": [
          1,
          2,
          3
         ],
         "xaxis": "x3",
         "y": [
          22.01479693793862,
          -3.8347063291393173,
          -1.6498878756866069
         ],
         "yaxis": "y3"
        },
        {
         "marker": {
          "color": [
           "green",
           "green",
           "red"
          ]
         },
         "name": "R² Drop",
         "type": "bar",
         "x": [
          1,
          2,
          3
         ],
         "xaxis": "x4",
         "y": [
          -0.5637693250904301,
          -0.4907704178401129,
          0.1543190968235595
         ],
         "yaxis": "y4"
        }
       ],
       "layout": {
        "annotations": [
         {
          "font": {
           "size": 16
          },
          "showarrow": false,
          "text": "RMSE Over Time",
          "x": 0.225,
          "xanchor": "center",
          "xref": "paper",
          "y": 1,
          "yanchor": "bottom",
          "yref": "paper"
         },
         {
          "font": {
           "size": 16
          },
          "showarrow": false,
          "text": "R² Score Over Time",
          "x": 0.775,
          "xanchor": "center",
          "xref": "paper",
          "y": 1,
          "yanchor": "bottom",
          "yref": "paper"
         },
         {
          "font": {
           "size": 16
          },
          "showarrow": false,
          "text": "RMSE Degradation %",
          "x": 0.225,
          "xanchor": "center",
          "xref": "paper",
          "y": 0.375,
          "yanchor": "bottom",
          "yref": "paper"
         },
         {
          "font": {
           "size": 16
          },
          "showarrow": false,
          "text": "R² Drop from Baseline",
          "x": 0.775,
          "xanchor": "center",
          "xref": "paper",
          "y": 0.375,
          "yanchor": "bottom",
          "yref": "paper"
         },
         {
          "showarrow": false,
          "text": "Baseline",
          "x": 1,
          "xanchor": "right",
          "xref": "x domain",
          "y": 2.0843351807213546,
          "yanchor": "bottom",
          "yref": "y"
         },
         {
          "showarrow": false,
          "text": "Baseline",
          "x": 1,
          "xanchor": "right",
          "xref": "x2 domain",
          "y": -0.3635006158485763,
          "yanchor": "bottom",
          "yref": "y2"
         },
         {
          "showarrow": false,
          "text": "Warning (15%)",
          "x": 1,
          "xanchor": "right",
          "xref": "x3 domain",
          "y": 15,
          "yanchor": "bottom",
          "yref": "y3"
         },
         {
          "showarrow": false,
          "text": "Critical (25%)",
          "x": 1,
          "xanchor": "right",
          "xref": "x3 domain",
          "y": 25,
          "yanchor": "bottom",
          "yref": "y3"
         },
         {
          "showarrow": false,
          "text": "Warning (0.05)",
          "x": 1,
          "xanchor": "right",
          "xref": "x4 domain",
          "y": 0.05,
          "yanchor": "bottom",
          "yref": "y4"
         },
         {
          "showarrow": false,
          "text": "Critical (0.10)",
          "x": 1,
          "xanchor": "right",
          "xref": "x4 domain",
          "y": 0.1,
          "yanchor": "bottom",
          "yref": "y4"
         }
        ],
        "height": 600,
        "shapes": [
         {
          "line": {
           "color": "blue",
           "dash": "dash"
          },
          "type": "line",
          "x0": 0,
          "x1": 1,
          "xref": "x domain",
          "y0": 2.0843351807213546,
          "y1": 2.0843351807213546,
          "yref": "y"
         },
         {
          "line": {
           "color": "blue",
           "dash": "dash"
          },
          "type": "line",
          "x0": 0,
          "x1": 1,
          "xref": "x2 domain",
          "y0": -0.3635006158485763,
          "y1": -0.3635006158485763,
          "yref": "y2"
         },
         {
          "line": {
           "color": "orange",
           "dash": "dash"
          },
          "type": "line",
          "x0": 0,
          "x1": 1,
          "xref": "x3 domain",
          "y0": 15,
          "y1": 15,
          "yref": "y3"
         },
         {
          "line": {
           "color": "red",
           "dash": "dash"
          },
          "type": "line",
          "x0": 0,
          "x1": 1,
          "xref": "x3 domain",
          "y0": 25,
          "y1": 25,
          "yref": "y3"
         },
         {
          "line": {
           "color": "orange",
           "dash": "dash"
          },
          "type": "line",
          "x0": 0,
          "x1": 1,
          "xref": "x4 domain",
          "y0": 0.05,
          "y1": 0.05,
          "yref": "y4"
         },
         {
          "line": {
           "color": "red",
           "dash": "dash"
          },
          "type": "line",
          "x0": 0,
          "x1": 1,
          "xref": "x4 domain",
          "y0": 0.1,
          "y1": 0.1,
          "yref": "y4"
         }
        ],
        "showlegend": true,
        "template": {
         "data": {
          "bar": [
           {
            "error_x": {
             "color": "#2a3f5f"
            },
            "error_y": {
             "color": "#2a3f5f"
            },
            "marker": {
             "line": {
              "color": "#E5ECF6",
              "width": 0.5
             },
             "pattern": {
              "fillmode": "overlay",
              "size": 10,
              "solidity": 0.2
             }
            },
            "type": "bar"
           }
          ],
          "barpolar": [
           {
            "marker": {
             "line": {
              "color": "#E5ECF6",
              "width": 0.5
             },
             "pattern": {
              "fillmode": "overlay",
              "size": 10,
              "solidity": 0.2
             }
            },
            "type": "barpolar"
           }
          ],
          "carpet": [
           {
            "aaxis": {
             "endlinecolor": "#2a3f5f",
             "gridcolor": "white",
             "linecolor": "white",
             "minorgridcolor": "white",
             "startlinecolor": "#2a3f5f"
            },
            "baxis": {
             "endlinecolor": "#2a3f5f",
             "gridcolor": "white",
             "linecolor": "white",
             "minorgridcolor": "white",
             "startlinecolor": "#2a3f5f"
            },
            "type": "carpet"
           }
          ],
          "choropleth": [
           {
            "colorbar": {
             "outlinewidth": 0,
             "ticks": ""
            },
            "type": "choropleth"
           }
          ],
          "contour": [
           {
            "colorbar": {
             "outlinewidth": 0,
             "ticks": ""
            },
            "colorscale": [
             [
              0,
              "#0d0887"
             ],
             [
              0.1111111111111111,
              "#46039f"
             ],
             [
              0.2222222222222222,
              "#7201a8"
             ],
             [
              0.3333333333333333,
              "#9c179e"
             ],
             [
              0.4444444444444444,
              "#bd3786"
             ],
             [
              0.5555555555555556,
              "#d8576b"
             ],
             [
              0.6666666666666666,
              "#ed7953"
             ],
             [
              0.7777777777777778,
              "#fb9f3a"
             ],
             [
              0.8888888888888888,
              "#fdca26"
             ],
             [
              1,
              "#f0f921"
             ]
            ],
            "type": "contour"
           }
          ],
          "contourcarpet": [
           {
            "colorbar": {
             "outlinewidth": 0,
             "ticks": ""
            },
            "type": "contourcarpet"
           }
          ],
          "heatmap": [
           {
            "colorbar": {
             "outlinewidth": 0,
             "ticks": ""
            },
            "colorscale": [
             [
              0,
              "#0d0887"
             ],
             [
              0.1111111111111111,
              "#46039f"
             ],
             [
              0.2222222222222222,
              "#7201a8"
             ],
             [
              0.3333333333333333,
              "#9c179e"
             ],
             [
              0.4444444444444444,
              "#bd3786"
             ],
             [
              0.5555555555555556,
              "#d8576b"
             ],
             [
              0.6666666666666666,
              "#ed7953"
             ],
             [
              0.7777777777777778,
              "#fb9f3a"
             ],
             [
              0.8888888888888888,
              "#fdca26"
             ],
             [
              1,
              "#f0f921"
             ]
            ],
            "type": "heatmap"
           }
          ],
          "histogram": [
           {
            "marker": {
             "pattern": {
              "fillmode": "overlay",
              "size": 10,
              "solidity": 0.2
             }
            },
            "type": "histogram"
           }
          ],
          "histogram2d": [
           {
            "colorbar": {
             "outlinewidth": 0,
             "ticks": ""
            },
            "colorscale": [
             [
              0,
              "#0d0887"
             ],
             [
              0.1111111111111111,
              "#46039f"
             ],
             [
              0.2222222222222222,
              "#7201a8"
             ],
             [
              0.3333333333333333,
              "#9c179e"
             ],
             [
              0.4444444444444444,
              "#bd3786"
             ],
             [
              0.5555555555555556,
              "#d8576b"
             ],
             [
              0.6666666666666666,
              "#ed7953"
             ],
             [
              0.7777777777777778,
              "#fb9f3a"
             ],
             [
              0.8888888888888888,
              "#fdca26"
             ],
             [
              1,
              "#f0f921"
             ]
            ],
            "type": "histogram2d"
           }
          ],
          "histogram2dcontour": [
           {
            "colorbar": {
             "outlinewidth": 0,
             "ticks": ""
            },
            "colorscale": [
             [
              0,
              "#0d0887"
             ],
             [
              0.1111111111111111,
              "#46039f"
             ],
             [
              0.2222222222222222,
              "#7201a8"
             ],
             [
              0.3333333333333333,
              "#9c179e"
             ],
             [
              0.4444444444444444,
              "#bd3786"
             ],
             [
              0.5555555555555556,
              "#d8576b"
             ],
             [
              0.6666666666666666,
              "#ed7953"
             ],
             [
              0.7777777777777778,
              "#fb9f3a"
             ],
             [
              0.8888888888888888,
              "#fdca26"
             ],
             [
              1,
              "#f0f921"
             ]
            ],
            "type": "histogram2dcontour"
           }
          ],
          "mesh3d": [
           {
            "colorbar": {
             "outlinewidth": 0,
             "ticks": ""
            },
            "type": "mesh3d"
           }
          ],
          "parcoords": [
           {
            "line": {
             "colorbar": {
              "outlinewidth": 0,
              "ticks": ""
             }
            },
            "type": "parcoords"
           }
          ],
          "pie": [
           {
            "automargin": true,
            "type": "pie"
           }
          ],
          "scatter": [
           {
            "fillpattern": {
             "fillmode": "overlay",
             "size": 10,
             "solidity": 0.2
            },
            "type": "scatter"
           }
          ],
          "scatter3d": [
           {
            "line": {
             "colorbar": {
              "outlinewidth": 0,
              "ticks": ""
             }
            },
            "marker": {
             "colorbar": {
              "outlinewidth": 0,
              "ticks": ""
             }
            },
            "type": "scatter3d"
           }
          ],
          "scattercarpet": [
           {
            "marker": {
             "colorbar": {
              "outlinewidth": 0,
              "ticks": ""
             }
            },
            "type": "scattercarpet"
           }
          ],
          "scattergeo": [
           {
            "marker": {
             "colorbar": {
              "outlinewidth": 0,
              "ticks": ""
             }
            },
            "type": "scattergeo"
           }
          ],
          "scattergl": [
           {
            "marker": {
             "colorbar": {
              "outlinewidth": 0,
              "ticks": ""
             }
            },
            "type": "scattergl"
           }
          ],
          "scattermap": [
           {
            "marker": {
             "colorbar": {
              "outlinewidth": 0,
              "ticks": ""
             }
            },
            "type": "scattermap"
           }
          ],
          "scattermapbox": [
           {
            "marker": {
             "colorbar": {
              "outlinewidth": 0,
              "ticks": ""
             }
            },
            "type": "scattermapbox"
           }
          ],
          "scatterpolar": [
           {
            "marker": {
             "colorbar": {
              "outlinewidth": 0,
              "ticks": ""
             }
            },
            "type": "scatterpolar"
           }
          ],
          "scatterpolargl": [
           {
            "marker": {
             "colorbar": {
              "outlinewidth": 0,
              "ticks": ""
             }
            },
            "type": "scatterpolargl"
           }
          ],
          "scatterternary": [
           {
            "marker": {
             "colorbar": {
              "outlinewidth": 0,
              "ticks": ""
             }
            },
            "type": "scatterternary"
           }
          ],
          "surface": [
           {
            "colorbar": {
             "outlinewidth": 0,
             "ticks": ""
            },
            "colorscale": [
             [
              0,
              "#0d0887"
             ],
             [
              0.1111111111111111,
              "#46039f"
             ],
             [
              0.2222222222222222,
              "#7201a8"
             ],
             [
              0.3333333333333333,
              "#9c179e"
             ],
             [
              0.4444444444444444,
              "#bd3786"
             ],
             [
              0.5555555555555556,
              "#d8576b"
             ],
             [
              0.6666666666666666,
              "#ed7953"
             ],
             [
              0.7777777777777778,
              "#fb9f3a"
             ],
             [
              0.8888888888888888,
              "#fdca26"
             ],
             [
              1,
              "#f0f921"
             ]
            ],
            "type": "surface"
           }
          ],
          "table": [
           {
            "cells": {
             "fill": {
              "color": "#EBF0F8"
             },
             "line": {
              "color": "white"
             }
            },
            "header": {
             "fill": {
              "color": "#C8D4E3"
             },
             "line": {
              "color": "white"
             }
            },
            "type": "table"
           }
          ]
         },
         "layout": {
          "annotationdefaults": {
           "arrowcolor": "#2a3f5f",
           "arrowhead": 0,
           "arrowwidth": 1
          },
          "autotypenumbers": "strict",
          "coloraxis": {
           "colorbar": {
            "outlinewidth": 0,
            "ticks": ""
           }
          },
          "colorscale": {
           "diverging": [
            [
             0,
             "#8e0152"
            ],
            [
             0.1,
             "#c51b7d"
            ],
            [
             0.2,
             "#de77ae"
            ],
            [
             0.3,
             "#f1b6da"
            ],
            [
             0.4,
             "#fde0ef"
            ],
            [
             0.5,
             "#f7f7f7"
            ],
            [
             0.6,
             "#e6f5d0"
            ],
            [
             0.7,
             "#b8e186"
            ],
            [
             0.8,
             "#7fbc41"
            ],
            [
             0.9,
             "#4d9221"
            ],
            [
             1,
             "#276419"
            ]
           ],
           "sequential": [
            [
             0,
             "#0d0887"
            ],
            [
             0.1111111111111111,
             "#46039f"
            ],
            [
             0.2222222222222222,
             "#7201a8"
            ],
            [
             0.3333333333333333,
             "#9c179e"
            ],
            [
             0.4444444444444444,
             "#bd3786"
            ],
            [
             0.5555555555555556,
             "#d8576b"
            ],
            [
             0.6666666666666666,
             "#ed7953"
            ],
            [
             0.7777777777777778,
             "#fb9f3a"
            ],
            [
             0.8888888888888888,
             "#fdca26"
            ],
            [
             1,
             "#f0f921"
            ]
           ],
           "sequentialminus": [
            [
             0,
             "#0d0887"
            ],
            [
             0.1111111111111111,
             "#46039f"
            ],
            [
             0.2222222222222222,
             "#7201a8"
            ],
            [
             0.3333333333333333,
             "#9c179e"
            ],
            [
             0.4444444444444444,
             "#bd3786"
            ],
            [
             0.5555555555555556,
             "#d8576b"
            ],
            [
             0.6666666666666666,
             "#ed7953"
            ],
            [
             0.7777777777777778,
             "#fb9f3a"
            ],
            [
             0.8888888888888888,
             "#fdca26"
            ],
            [
             1,
             "#f0f921"
            ]
           ]
          },
          "colorway": [
           "#636efa",
           "#EF553B",
           "#00cc96",
           "#ab63fa",
           "#FFA15A",
           "#19d3f3",
           "#FF6692",
           "#B6E880",
           "#FF97FF",
           "#FECB52"
          ],
          "font": {
           "color": "#2a3f5f"
          },
          "geo": {
           "bgcolor": "white",
           "lakecolor": "white",
           "landcolor": "#E5ECF6",
           "showlakes": true,
           "showland": true,
           "subunitcolor": "white"
          },
          "hoverlabel": {
           "align": "left"
          },
          "hovermode": "closest",
          "mapbox": {
           "style": "light"
          },
          "paper_bgcolor": "white",
          "plot_bgcolor": "#E5ECF6",
          "polar": {
           "angularaxis": {
            "gridcolor": "white",
            "linecolor": "white",
            "ticks": ""
           },
           "bgcolor": "#E5ECF6",
           "radialaxis": {
            "gridcolor": "white",
            "linecolor": "white",
            "ticks": ""
           }
          },
          "scene": {
           "xaxis": {
            "backgroundcolor": "#E5ECF6",
            "gridcolor": "white",
            "gridwidth": 2,
            "linecolor": "white",
            "showbackground": true,
            "ticks": "",
            "zerolinecolor": "white"
           },
           "yaxis": {
            "backgroundcolor": "#E5ECF6",
            "gridcolor": "white",
            "gridwidth": 2,
            "linecolor": "white",
            "showbackground": true,
            "ticks": "",
            "zerolinecolor": "white"
           },
           "zaxis": {
            "backgroundcolor": "#E5ECF6",
            "gridcolor": "white",
            "gridwidth": 2,
            "linecolor": "white",
            "showbackground": true,
            "ticks": "",
            "zerolinecolor": "white"
           }
          },
          "shapedefaults": {
           "line": {
            "color": "#2a3f5f"
           }
          },
          "ternary": {
           "aaxis": {
            "gridcolor": "white",
            "linecolor": "white",
            "ticks": ""
           },
           "baxis": {
            "gridcolor": "white",
            "linecolor": "white",
            "ticks": ""
           },
           "bgcolor": "#E5ECF6",
           "caxis": {
            "gridcolor": "white",
            "linecolor": "white",
            "ticks": ""
           }
          },
          "title": {
           "x": 0.05
          },
          "xaxis": {
           "automargin": true,
           "gridcolor": "white",
           "linecolor": "white",
           "ticks": "",
           "title": {
            "standoff": 15
           },
           "zerolinecolor": "white",
           "zerolinewidth": 2
          },
          "yaxis": {
           "automargin": true,
           "gridcolor": "white",
           "linecolor": "white",
           "ticks": "",
           "title": {
            "standoff": 15
           },
           "zerolinecolor": "white",
           "zerolinewidth": 2
          }
         }
        },
        "title": {
         "text": "🔄 Model Performance Monitoring Dashboard",
         "x": 0.5
        },
        "xaxis": {
         "anchor": "y",
         "domain": [
          0,
          0.45
         ],
         "title": {
          "text": "Monitoring Period"
         }
        },
        "xaxis2": {
         "anchor": "y2",
         "domain": [
          0.55,
          1
         ],
         "title": {
          "text": "Monitoring Period"
         }
        },
        "xaxis3": {
         "anchor": "y3",
         "domain": [
          0,
          0.45
         ],
         "title": {
          "text": "Monitoring Period"
         }
        },
        "xaxis4": {
         "anchor": "y4",
         "domain": [
          0.55,
          1
         ],
         "title": {
          "text": "Monitoring Period"
         }
        },
        "yaxis": {
         "anchor": "x",
         "domain": [
          0.625,
          1
         ],
         "title": {
          "text": "RMSE (°C)"
         }
        },
        "yaxis2": {
         "anchor": "x2",
         "domain": [
          0.625,
          1
         ],
         "title": {
          "text": "R² Score"
         }
        },
        "yaxis3": {
         "anchor": "x3",
         "domain": [
          0,
          0.375
         ],
         "title": {
          "text": "Degradation %"
         }
        },
        "yaxis4": {
         "anchor": "x4",
         "domain": [
          0,
          0.375
         ],
         "title": {
          "text": "R² Drop"
         }
        }
       }
      }
     },
     "metadata": {},
     "output_type": "display_data"
    },
    {
     "name": "stdout",
     "output_type": "stream",
     "text": [
      "📊 Interactive monitoring dashboard created!\n",
      "🎯 Key insights:\n",
      "• Baseline RMSE: 2.0843°C\n",
      "• Latest RMSE: 2.0499°C\n",
      "• Performance trend: 📈 Improving\n"
     ]
    }
   ],
   "source": [
    "# Create comprehensive monitoring dashboard\n",
    "def create_monitoring_dashboard(monitoring_results, baseline_performance):\n",
    "    \"\"\"\n",
    "    Create interactive monitoring dashboard with Plotly\n",
    "    \"\"\"\n",
    "    # Extract data for plotting\n",
    "    periods = [r['period'] for r in monitoring_results]\n",
    "    rmse_values = [r['performance']['rmse'] for r in monitoring_results]\n",
    "    r2_values = [r['performance']['r2'] for r in monitoring_results]\n",
    "    rmse_degradation = [r['performance']['rmse_degradation_pct'] for r in monitoring_results]\n",
    "    r2_drop = [r['performance']['r2_drop'] for r in monitoring_results]\n",
    "    \n",
    "    # Create subplots\n",
    "    fig = make_subplots(\n",
    "        rows=2, cols=2,\n",
    "        subplot_titles=(\n",
    "            \"RMSE Over Time\",\n",
    "            \"R² Score Over Time\", \n",
    "            \"RMSE Degradation %\",\n",
    "            \"R² Drop from Baseline\"\n",
    "        ),\n",
    "        specs=[[{\"secondary_y\": False}, {\"secondary_y\": False}],\n",
    "               [{\"secondary_y\": False}, {\"secondary_y\": False}]]\n",
    "    )\n",
    "    \n",
    "    # RMSE over time\n",
    "    fig.add_trace(\n",
    "        go.Scatter(x=periods, y=rmse_values, mode='lines+markers', name='RMSE',\n",
    "                  line=dict(color='red', width=2), marker=dict(size=6)),\n",
    "        row=1, col=1\n",
    "    )\n",
    "    # Baseline RMSE\n",
    "    fig.add_hline(y=baseline_performance['rmse'], line_dash=\"dash\", \n",
    "                  line_color=\"blue\", annotation_text=\"Baseline\", row=1, col=1)\n",
    "    \n",
    "    # R² over time\n",
    "    fig.add_trace(\n",
    "        go.Scatter(x=periods, y=r2_values, mode='lines+markers', name='R²',\n",
    "                  line=dict(color='green', width=2), marker=dict(size=6)),\n",
    "        row=1, col=2\n",
    "    )\n",
    "    # Baseline R²\n",
    "    fig.add_hline(y=baseline_performance['r2'], line_dash=\"dash\", \n",
    "                  line_color=\"blue\", annotation_text=\"Baseline\", row=1, col=2)\n",
    "    \n",
    "    # RMSE degradation\n",
    "    colors = ['red' if x > 15 else 'orange' if x > 10 else 'green' for x in rmse_degradation]\n",
    "    fig.add_trace(\n",
    "        go.Bar(x=periods, y=rmse_degradation, name='RMSE Degradation %',\n",
    "               marker_color=colors),\n",
    "        row=2, col=1\n",
    "    )\n",
    "    # Warning threshold\n",
    "    fig.add_hline(y=15, line_dash=\"dash\", line_color=\"orange\", \n",
    "                  annotation_text=\"Warning (15%)\", row=2, col=1)\n",
    "    fig.add_hline(y=25, line_dash=\"dash\", line_color=\"red\", \n",
    "                  annotation_text=\"Critical (25%)\", row=2, col=1)\n",
    "    \n",
    "    # R² drop\n",
    "    colors = ['red' if x > 0.10 else 'orange' if x > 0.05 else 'green' for x in r2_drop]\n",
    "    fig.add_trace(\n",
    "        go.Bar(x=periods, y=r2_drop, name='R² Drop',\n",
    "               marker_color=colors),\n",
    "        row=2, col=2\n",
    "    )\n",
    "    # Warning thresholds\n",
    "    fig.add_hline(y=0.05, line_dash=\"dash\", line_color=\"orange\", \n",
    "                  annotation_text=\"Warning (0.05)\", row=2, col=2)\n",
    "    fig.add_hline(y=0.10, line_dash=\"dash\", line_color=\"red\", \n",
    "                  annotation_text=\"Critical (0.10)\", row=2, col=2)\n",
    "    \n",
    "    # Update layout\n",
    "    fig.update_layout(\n",
    "        title_text=\"🔄 Model Performance Monitoring Dashboard\",\n",
    "        title_x=0.5,\n",
    "        height=600,\n",
    "        showlegend=True\n",
    "    )\n",
    "    \n",
    "    # Update axis labels\n",
    "    fig.update_xaxes(title_text=\"Monitoring Period\", row=1, col=1)\n",
    "    fig.update_xaxes(title_text=\"Monitoring Period\", row=1, col=2)\n",
    "    fig.update_xaxes(title_text=\"Monitoring Period\", row=2, col=1)\n",
    "    fig.update_xaxes(title_text=\"Monitoring Period\", row=2, col=2)\n",
    "    \n",
    "    fig.update_yaxes(title_text=\"RMSE (°C)\", row=1, col=1)\n",
    "    fig.update_yaxes(title_text=\"R² Score\", row=1, col=2)\n",
    "    fig.update_yaxes(title_text=\"Degradation %\", row=2, col=1)\n",
    "    fig.update_yaxes(title_text=\"R² Drop\", row=2, col=2)\n",
    "    \n",
    "    return fig\n",
    "\n",
    "# Create and display dashboard\n",
    "if monitoring_results:\n",
    "    dashboard_fig = create_monitoring_dashboard(monitoring_results, baseline_perf)\n",
    "    dashboard_fig.show()\n",
    "    \n",
    "    print(\"📊 Interactive monitoring dashboard created!\")\n",
    "    print(\"🎯 Key insights:\")\n",
    "    print(f\"• Baseline RMSE: {baseline_perf['rmse']:.4f}°C\")\n",
    "    print(f\"• Latest RMSE: {monitoring_results[-1]['performance']['rmse']:.4f}°C\")\n",
    "    print(f\"• Performance trend: {'📈 Improving' if monitoring_results[-1]['performance']['rmse'] < baseline_perf['rmse'] else '📉 Degrading'}\")\n",
    "else:\n",
    "    print(\"❌ No monitoring results available for dashboard creation\")"
   ]
  },
  {
   "cell_type": "markdown",
   "id": "43c87122",
   "metadata": {},
   "source": [
    "## 6. Retraining Decision Analysis"
   ]
  },
  {
   "cell_type": "code",
   "execution_count": 7,
   "id": "7027d2f1",
   "metadata": {},
   "outputs": [
    {
     "name": "stdout",
     "output_type": "stream",
     "text": [
      "🔍 RETRAINING DECISION ANALYSIS\n",
      "==================================================\n",
      "🚨 Total retraining alerts: 2\n",
      "📊 Alert rate: 66.7%\n",
      "\n",
      "📊 Alert Severity Breakdown:\n",
      "• High: 1 alerts\n",
      "• Critical: 1 alerts\n",
      "\n",
      "📋 Alert Reason Analysis:\n",
      "• Significant data drift: 1 occurrences\n",
      "• Critical R² drop: 1 occurrences\n",
      "\n",
      "🚨 DETAILED ALERT TIMELINE:\n",
      "\n",
      "1. Period 1 - HIGH Alert:\n",
      "   📅 Date: 2024-11-18\n",
      "   🎯 RMSE: 2.5432°C (degradation: 22.0%)\n",
      "   📈 R²: 0.2003 (drop: -0.5638)\n",
      "   🚨 Reasons:\n",
      "     • Significant data drift: 70.0% of features\n",
      "\n",
      "2. Period 3 - CRITICAL Alert:\n",
      "   📅 Date: 2025-06-29\n",
      "   🎯 RMSE: 2.0499°C (degradation: -1.6%)\n",
      "   📈 R²: -0.5178 (drop: 0.1543)\n",
      "   🚨 Reasons:\n",
      "     • Critical R² drop: 0.154\n",
      "\n",
      "\n",
      "🔄 MODEL MONITORING REPORT\n",
      "==================================================\n",
      "📅 Report Date: 2025-10-13 17:25:58\n",
      "🤖 Model: AdaBoostRegressor\n",
      "📊 Monitoring Period: 3 evaluations\n",
      "\n",
      "📈 LATEST PERFORMANCE:\n",
      "• RMSE: 2.0499°C\n",
      "• R²: -0.5178\n",
      "• RMSE Degradation: -1.6%\n",
      "• R² Drop: 0.1543\n",
      "\n",
      "🚨 ALERT STATUS:\n",
      "• Alert Count: 0\n",
      "• Drift Evaluations: 1\n",
      "\n",
      "⚙️ THRESHOLDS:\n",
      "• RMSE Warning: 15%\n",
      "• RMSE Critical: 25%\n",
      "• R² Warning: 0.050\n",
      "• R² Critical: 0.100\n",
      "        \n"
     ]
    }
   ],
   "source": [
    "# Analyze retraining decisions and create summary\n",
    "def analyze_retraining_decisions(monitoring_results, retraining_alerts):\n",
    "    \"\"\"\n",
    "    Comprehensive analysis of retraining decisions\n",
    "    \"\"\"\n",
    "    print(\"🔍 RETRAINING DECISION ANALYSIS\")\n",
    "    print(\"=\" * 50)\n",
    "    \n",
    "    if not retraining_alerts:\n",
    "        print(\"✅ No retraining alerts triggered during monitoring period\")\n",
    "        print(\"📊 Model performance remains stable\")\n",
    "        return\n",
    "    \n",
    "    print(f\"🚨 Total retraining alerts: {len(retraining_alerts)}\")\n",
    "    print(f\"📊 Alert rate: {len(retraining_alerts)/len(monitoring_results)*100:.1f}%\")\n",
    "    \n",
    "    # Analyze alert patterns\n",
    "    severity_counts = {}\n",
    "    reason_counts = {}\n",
    "    \n",
    "    for alert in retraining_alerts:\n",
    "        decision = alert['retraining_decision']\n",
    "        severity = decision['severity']\n",
    "        \n",
    "        # Count severities\n",
    "        severity_counts[severity] = severity_counts.get(severity, 0) + 1\n",
    "        \n",
    "        # Count reasons\n",
    "        for reason in decision['reasons']:\n",
    "            reason_type = reason.split(':')[0]  # Extract reason type\n",
    "            reason_counts[reason_type] = reason_counts.get(reason_type, 0) + 1\n",
    "    \n",
    "    print(f\"\\n📊 Alert Severity Breakdown:\")\n",
    "    for severity, count in severity_counts.items():\n",
    "        print(f\"• {severity.title()}: {count} alerts\")\n",
    "    \n",
    "    print(f\"\\n📋 Alert Reason Analysis:\")\n",
    "    for reason, count in reason_counts.items():\n",
    "        print(f\"• {reason}: {count} occurrences\")\n",
    "    \n",
    "    # Detailed alert information\n",
    "    print(f\"\\n🚨 DETAILED ALERT TIMELINE:\")\n",
    "    for i, alert in enumerate(retraining_alerts, 1):\n",
    "        period = alert['period']\n",
    "        decision = alert['retraining_decision']\n",
    "        performance = alert['performance']\n",
    "        \n",
    "        print(f\"\\n{i}. Period {period} - {decision['severity'].upper()} Alert:\")\n",
    "        print(f\"   📅 Date: {performance['date_info']['start_date'].strftime('%Y-%m-%d')}\")\n",
    "        print(f\"   🎯 RMSE: {performance['rmse']:.4f}°C (degradation: {performance['rmse_degradation_pct']:.1f}%)\")\n",
    "        print(f\"   📈 R²: {performance['r2']:.4f} (drop: {performance['r2_drop']:.4f})\")\n",
    "        print(f\"   🚨 Reasons:\")\n",
    "        for reason in decision['reasons']:\n",
    "            print(f\"     • {reason}\")\n",
    "    \n",
    "    return {\n",
    "        'total_alerts': len(retraining_alerts),\n",
    "        'alert_rate': len(retraining_alerts)/len(monitoring_results),\n",
    "        'severity_breakdown': severity_counts,\n",
    "        'reason_breakdown': reason_counts\n",
    "    }\n",
    "\n",
    "# Run retraining analysis\n",
    "retraining_analysis = analyze_retraining_decisions(monitoring_results, retraining_alerts)\n",
    "\n",
    "# Generate final monitoring report\n",
    "final_report = monitor.generate_monitoring_report()\n",
    "print(\"\\n\" + final_report)"
   ]
  },
  {
   "cell_type": "markdown",
   "id": "d26acaab",
   "metadata": {},
   "source": [
    "## 7. Production Deployment Recommendations"
   ]
  },
  {
   "cell_type": "code",
   "execution_count": 8,
   "id": "63609d96",
   "metadata": {},
   "outputs": [
    {
     "name": "stdout",
     "output_type": "stream",
     "text": [
      "🚀 PRODUCTION DEPLOYMENT RECOMMENDATIONS\n",
      "============================================================\n",
      "📊 MODEL STABILITY ASSESSMENT:\n",
      "• Performance variance: 0.059518\n",
      "• Average degradation: 5.5%\n",
      "• Stability status: 🟢 STABLE\n",
      "• Recommended monitoring: Weekly\n",
      "\n",
      "🔄 RETRAINING STRATEGY:\n",
      "• High alert rate (66.7%) - Consider monthly retraining\n",
      "\n",
      "🏗️ MONITORING INFRASTRUCTURE:\n",
      "• Implement automated performance tracking\n",
      "• Set up alert system for weekly checks\n",
      "• Deploy A/B testing framework for model updates\n",
      "• Maintain model versioning and rollback capabilities\n",
      "\n",
      "📊 KEY PRODUCTION METRICS:\n",
      "• Primary: RMSE degradation > 15% (warning), > 25% (critical)\n",
      "• Secondary: R² drop > 0.05 (warning), > 0.10 (critical)\n",
      "• Drift: > 10% of features showing distribution changes\n",
      "• Business: Temperature forecast accuracy within ±2°C\n",
      "\n",
      "💰 COST-BENEFIT CONSIDERATIONS:\n",
      "• Monitoring cost: Low (automated scripts)\n",
      "• Retraining cost: Medium (compute + validation time)\n",
      "• Downtime cost: High (inaccurate forecasts)\n",
      "• Recommendation: Invest in automated monitoring\n",
      "\n",
      "📋 IMPLEMENTATION STATUS:\n",
      "  ✅ Model performance monitoring system\n",
      "  ✅ Statistical drift detection\n",
      "  ✅ Automated alert thresholds\n",
      "  ⏳ Real-time monitoring dashboard\n",
      "  ⏳ Automated retraining pipeline\n",
      "  ⏳ A/B testing framework\n",
      "  ⏳ Model versioning system\n",
      "  ⏳ Production deployment automation\n",
      "\n",
      "🎯 NEXT STEPS FOR STEP 8 & 9:\n",
      "• Step 8: Implement hourly data forecasting\n",
      "• Step 9: ONNX model optimization for deployment\n",
      "• Production: Deploy monitoring system with alerting\n",
      "• Automation: Build CI/CD pipeline for model updates\n"
     ]
    }
   ],
   "source": [
    "# Production deployment guidelines and recommendations\n",
    "def generate_production_recommendations(monitoring_results, retraining_analysis):\n",
    "    \"\"\"\n",
    "    Generate production deployment recommendations based on monitoring analysis\n",
    "    \"\"\"\n",
    "    print(\"🚀 PRODUCTION DEPLOYMENT RECOMMENDATIONS\")\n",
    "    print(\"=\" * 60)\n",
    "    \n",
    "    # Model stability assessment\n",
    "    performance_variance = np.var([r['performance']['rmse'] for r in monitoring_results])\n",
    "    avg_degradation = np.mean([r['performance']['rmse_degradation_pct'] for r in monitoring_results])\n",
    "    \n",
    "    print(f\"📊 MODEL STABILITY ASSESSMENT:\")\n",
    "    print(f\"• Performance variance: {performance_variance:.6f}\")\n",
    "    print(f\"• Average degradation: {avg_degradation:.1f}%\")\n",
    "    \n",
    "    if performance_variance < 0.1 and avg_degradation < 10:\n",
    "        stability = \"🟢 STABLE\"\n",
    "        monitoring_frequency = \"Weekly\"\n",
    "    elif performance_variance < 0.5 and avg_degradation < 20:\n",
    "        stability = \"🟡 MODERATE\"\n",
    "        monitoring_frequency = \"Daily\"\n",
    "    else:\n",
    "        stability = \"🔴 UNSTABLE\"\n",
    "        monitoring_frequency = \"Real-time\"\n",
    "    \n",
    "    print(f\"• Stability status: {stability}\")\n",
    "    print(f\"• Recommended monitoring: {monitoring_frequency}\")\n",
    "    \n",
    "    # Retraining recommendations\n",
    "    print(f\"\\n🔄 RETRAINING STRATEGY:\")\n",
    "    if retraining_analysis and retraining_analysis['alert_rate'] > 0.3:\n",
    "        print(f\"• High alert rate ({retraining_analysis['alert_rate']:.1%}) - Consider monthly retraining\")\n",
    "    elif retraining_analysis and retraining_analysis['alert_rate'] > 0.1:\n",
    "        print(f\"• Moderate alert rate ({retraining_analysis['alert_rate']:.1%}) - Quarterly retraining recommended\")\n",
    "    else:\n",
    "        print(f\"• Low alert rate - Semi-annual retraining sufficient\")\n",
    "    \n",
    "    # Monitoring infrastructure\n",
    "    print(f\"\\n🏗️ MONITORING INFRASTRUCTURE:\")\n",
    "    print(f\"• Implement automated performance tracking\")\n",
    "    print(f\"• Set up alert system for {monitoring_frequency.lower()} checks\")\n",
    "    print(f\"• Deploy A/B testing framework for model updates\")\n",
    "    print(f\"• Maintain model versioning and rollback capabilities\")\n",
    "    \n",
    "    # Key metrics to track\n",
    "    print(f\"\\n📊 KEY PRODUCTION METRICS:\")\n",
    "    print(f\"• Primary: RMSE degradation > 15% (warning), > 25% (critical)\")\n",
    "    print(f\"• Secondary: R² drop > 0.05 (warning), > 0.10 (critical)\")\n",
    "    print(f\"• Drift: > 10% of features showing distribution changes\")\n",
    "    print(f\"• Business: Temperature forecast accuracy within ±2°C\")\n",
    "    \n",
    "    # Cost-benefit analysis\n",
    "    print(f\"\\n💰 COST-BENEFIT CONSIDERATIONS:\")\n",
    "    print(f\"• Monitoring cost: Low (automated scripts)\")\n",
    "    print(f\"• Retraining cost: Medium (compute + validation time)\")\n",
    "    print(f\"• Downtime cost: High (inaccurate forecasts)\")\n",
    "    print(f\"• Recommendation: Invest in automated monitoring\")\n",
    "    \n",
    "    # Implementation checklist\n",
    "    checklist = [\n",
    "        \"✅ Model performance monitoring system\",\n",
    "        \"✅ Statistical drift detection\",\n",
    "        \"✅ Automated alert thresholds\",\n",
    "        \"⏳ Real-time monitoring dashboard\",\n",
    "        \"⏳ Automated retraining pipeline\",\n",
    "        \"⏳ A/B testing framework\",\n",
    "        \"⏳ Model versioning system\",\n",
    "        \"⏳ Production deployment automation\"\n",
    "    ]\n",
    "    \n",
    "    print(f\"\\n📋 IMPLEMENTATION STATUS:\")\n",
    "    for item in checklist:\n",
    "        print(f\"  {item}\")\n",
    "    \n",
    "    return {\n",
    "        'stability': stability,\n",
    "        'monitoring_frequency': monitoring_frequency,\n",
    "        'performance_variance': performance_variance,\n",
    "        'avg_degradation': avg_degradation\n",
    "    }\n",
    "\n",
    "# Generate recommendations\n",
    "production_recommendations = generate_production_recommendations(monitoring_results, retraining_analysis)\n",
    "\n",
    "print(f\"\\n🎯 NEXT STEPS FOR STEP 8 & 9:\")\n",
    "print(f\"• Step 8: Implement hourly data forecasting\")\n",
    "print(f\"• Step 9: ONNX model optimization for deployment\")\n",
    "print(f\"• Production: Deploy monitoring system with alerting\")\n",
    "print(f\"• Automation: Build CI/CD pipeline for model updates\")"
   ]
  },
  {
   "cell_type": "markdown",
   "id": "20d5c1ee",
   "metadata": {},
   "source": [
    "## 8. Summary and Key Insights"
   ]
  },
  {
   "cell_type": "code",
   "execution_count": 9,
   "id": "1f98fded",
   "metadata": {},
   "outputs": [
    {
     "name": "stdout",
     "output_type": "stream",
     "text": [
      "🎯 STEP 7 IMPLEMENTATION SUMMARY\n",
      "============================================================\n",
      "✅ COMPLETED COMPONENTS:\n",
      "• Model Performance Monitoring System\n",
      "• Data Drift Detection Framework\n",
      "• Automated Retraining Decision Logic\n",
      "• Real-world Monitoring Simulation\n",
      "• Interactive Performance Dashboard\n",
      "• Production Deployment Guidelines\n",
      "\n",
      "🔍 KEY INSIGHTS DISCOVERED:\n",
      "• Current model RMSE: 2.0499°C\n",
      "• Performance degradation: -1.6%\n",
      "• Model stability: 🟢 STABLE\n",
      "• Recommended monitoring: Weekly\n",
      "• Retraining alerts triggered: 2\n",
      "• Alert frequency: 66.7%\n",
      "\n",
      "🚨 WHEN TO RETRAIN (Decision Framework):\n",
      "• IMMEDIATE: RMSE degradation > 25% OR R² drop > 0.10\n",
      "• SCHEDULED: 3+ consecutive performance warnings\n",
      "• PROACTIVE: > 20% of features showing data drift\n",
      "• PERIODIC: Quarterly retraining regardless of alerts\n",
      "\n",
      "🔄 MONITORING BEST PRACTICES:\n",
      "• Track both performance and drift metrics\n",
      "• Use statistical significance tests\n",
      "• Implement sliding window analysis\n",
      "• Maintain baseline performance benchmarks\n",
      "• Set up automated alerting systems\n",
      "\n",
      "🎯 BUSINESS VALUE:\n",
      "• Prevents model degradation in production\n",
      "• Reduces manual monitoring overhead\n",
      "• Maintains forecast accuracy over time\n",
      "• Enables proactive model maintenance\n",
      "• Supports confident production deployment\n",
      "\n",
      "🚀 READY FOR STEP 8: Hourly Data Enhancement\n",
      "🔧 READY FOR STEP 9: ONNX Deployment Optimization\n",
      "\n",
      "📊 Step 7 SUCCESSFULLY COMPLETED! 🎉\n"
     ]
    }
   ],
   "source": [
    "# Final summary of Step 7 implementation\n",
    "print(\"🎯 STEP 7 IMPLEMENTATION SUMMARY\")\n",
    "print(\"=\" * 60)\n",
    "\n",
    "print(\"✅ COMPLETED COMPONENTS:\")\n",
    "print(\"• Model Performance Monitoring System\")\n",
    "print(\"• Data Drift Detection Framework\")\n",
    "print(\"• Automated Retraining Decision Logic\")\n",
    "print(\"• Real-world Monitoring Simulation\")\n",
    "print(\"• Interactive Performance Dashboard\")\n",
    "print(\"• Production Deployment Guidelines\")\n",
    "\n",
    "print(\"\\n🔍 KEY INSIGHTS DISCOVERED:\")\n",
    "if monitoring_results:\n",
    "    latest_perf = monitoring_results[-1]['performance']\n",
    "    print(f\"• Current model RMSE: {latest_perf['rmse']:.4f}°C\")\n",
    "    print(f\"• Performance degradation: {latest_perf['rmse_degradation_pct']:.1f}%\")\n",
    "    print(f\"• Model stability: {production_recommendations['stability']}\")\n",
    "    print(f\"• Recommended monitoring: {production_recommendations['monitoring_frequency']}\")\n",
    "\n",
    "if retraining_alerts:\n",
    "    print(f\"• Retraining alerts triggered: {len(retraining_alerts)}\")\n",
    "    print(f\"• Alert frequency: {len(retraining_alerts)/len(monitoring_results)*100:.1f}%\")\n",
    "else:\n",
    "    print(f\"• No retraining alerts during simulation\")\n",
    "    print(f\"• Model remains stable over time\")\n",
    "\n",
    "print(\"\\n🚨 WHEN TO RETRAIN (Decision Framework):\")\n",
    "print(\"• IMMEDIATE: RMSE degradation > 25% OR R² drop > 0.10\")\n",
    "print(\"• SCHEDULED: 3+ consecutive performance warnings\")\n",
    "print(\"• PROACTIVE: > 20% of features showing data drift\")\n",
    "print(\"• PERIODIC: Quarterly retraining regardless of alerts\")\n",
    "\n",
    "print(\"\\n🔄 MONITORING BEST PRACTICES:\")\n",
    "print(\"• Track both performance and drift metrics\")\n",
    "print(\"• Use statistical significance tests\")\n",
    "print(\"• Implement sliding window analysis\")\n",
    "print(\"• Maintain baseline performance benchmarks\")\n",
    "print(\"• Set up automated alerting systems\")\n",
    "\n",
    "print(\"\\n🎯 BUSINESS VALUE:\")\n",
    "print(\"• Prevents model degradation in production\")\n",
    "print(\"• Reduces manual monitoring overhead\")\n",
    "print(\"• Maintains forecast accuracy over time\")\n",
    "print(\"• Enables proactive model maintenance\")\n",
    "print(\"• Supports confident production deployment\")\n",
    "\n",
    "print(\"\\n🚀 READY FOR STEP 8: Hourly Data Enhancement\")\n",
    "print(\"🔧 READY FOR STEP 9: ONNX Deployment Optimization\")\n",
    "print(\"\\n📊 Step 7 SUCCESSFULLY COMPLETED! 🎉\")"
   ]
  }
 ],
 "metadata": {
  "kernelspec": {
   "display_name": "dev",
   "language": "python",
   "name": "python3"
  },
  "language_info": {
   "codemirror_mode": {
    "name": "ipython",
    "version": 3
   },
   "file_extension": ".py",
   "mimetype": "text/x-python",
   "name": "python",
   "nbconvert_exporter": "python",
   "pygments_lexer": "ipython3",
   "version": "3.12.7"
  }
 },
 "nbformat": 4,
 "nbformat_minor": 5
}
